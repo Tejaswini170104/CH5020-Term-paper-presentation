{
  "nbformat": 4,
  "nbformat_minor": 0,
  "metadata": {
    "colab": {
      "provenance": [],
      "authorship_tag": "ABX9TyMSfv52PTsCQFQJTwxFtafy",
      "include_colab_link": true
    },
    "kernelspec": {
      "name": "python3",
      "display_name": "Python 3"
    },
    "language_info": {
      "name": "python"
    }
  },
  "cells": [
    {
      "cell_type": "markdown",
      "metadata": {
        "id": "view-in-github",
        "colab_type": "text"
      },
      "source": [
        "<a href=\"https://colab.research.google.com/github/Tejaswini170104/CH5020-Term-paper-presentation/blob/main/CartPole_v1_qlearning.ipynb\" target=\"_parent\"><img src=\"https://colab.research.google.com/assets/colab-badge.svg\" alt=\"Open In Colab\"/></a>"
      ]
    },
    {
      "cell_type": "code",
      "execution_count": 1,
      "metadata": {
        "colab": {
          "base_uri": "https://localhost:8080/",
          "height": 1000
        },
        "id": "jSrqUZHacf6b",
        "outputId": "acec0d54-a453-4e1f-94ec-4bb06cfa4c8c"
      },
      "outputs": [
        {
          "output_type": "stream",
          "name": "stderr",
          "text": [
            "\u001b[34m\u001b[1mwandb\u001b[0m: Using wandb-core as the SDK backend.  Please refer to https://wandb.me/wandb-core for more information.\n"
          ]
        },
        {
          "output_type": "display_data",
          "data": {
            "text/plain": [
              "<IPython.core.display.Javascript object>"
            ],
            "application/javascript": [
              "\n",
              "        window._wandbApiKey = new Promise((resolve, reject) => {\n",
              "            function loadScript(url) {\n",
              "            return new Promise(function(resolve, reject) {\n",
              "                let newScript = document.createElement(\"script\");\n",
              "                newScript.onerror = reject;\n",
              "                newScript.onload = resolve;\n",
              "                document.body.appendChild(newScript);\n",
              "                newScript.src = url;\n",
              "            });\n",
              "            }\n",
              "            loadScript(\"https://cdn.jsdelivr.net/npm/postmate/build/postmate.min.js\").then(() => {\n",
              "            const iframe = document.createElement('iframe')\n",
              "            iframe.style.cssText = \"width:0;height:0;border:none\"\n",
              "            document.body.appendChild(iframe)\n",
              "            const handshake = new Postmate({\n",
              "                container: iframe,\n",
              "                url: 'https://wandb.ai/authorize'\n",
              "            });\n",
              "            const timeout = setTimeout(() => reject(\"Couldn't auto authenticate\"), 5000)\n",
              "            handshake.then(function(child) {\n",
              "                child.on('authorize', data => {\n",
              "                    clearTimeout(timeout)\n",
              "                    resolve(data)\n",
              "                });\n",
              "            });\n",
              "            })\n",
              "        });\n",
              "    "
            ]
          },
          "metadata": {}
        },
        {
          "output_type": "stream",
          "name": "stderr",
          "text": [
            "\u001b[34m\u001b[1mwandb\u001b[0m: Logging into wandb.ai. (Learn how to deploy a W&B server locally: https://wandb.me/wandb-server)\n",
            "\u001b[34m\u001b[1mwandb\u001b[0m: You can find your API key in your browser here: https://wandb.ai/authorize\n",
            "wandb: Paste an API key from your profile and hit enter:"
          ]
        },
        {
          "name": "stdout",
          "output_type": "stream",
          "text": [
            " ··········\n"
          ]
        },
        {
          "output_type": "stream",
          "name": "stderr",
          "text": [
            "\u001b[34m\u001b[1mwandb\u001b[0m: \u001b[33mWARNING\u001b[0m If you're specifying your api key in code, ensure this code is not shared publicly.\n",
            "\u001b[34m\u001b[1mwandb\u001b[0m: \u001b[33mWARNING\u001b[0m Consider setting the WANDB_API_KEY environment variable, or running `wandb login` from the command line.\n",
            "\u001b[34m\u001b[1mwandb\u001b[0m: No netrc file found, creating one.\n",
            "\u001b[34m\u001b[1mwandb\u001b[0m: Appending key for api.wandb.ai to your netrc file: /root/.netrc\n"
          ]
        },
        {
          "output_type": "stream",
          "name": "stdout",
          "text": [
            "Create sweep with ID: 2i40hybt\n",
            "Sweep URL: https://wandb.ai/tejaswiniksssn-indian-institute-of-technology-madras/rl_qlearning_softmax/sweeps/2i40hybt\n"
          ]
        },
        {
          "output_type": "stream",
          "name": "stderr",
          "text": [
            "\u001b[34m\u001b[1mwandb\u001b[0m: Agent Starting Run: fficm5rm with config:\n",
            "\u001b[34m\u001b[1mwandb\u001b[0m: \talpha: 0.01\n",
            "\u001b[34m\u001b[1mwandb\u001b[0m: \ttau: 1\n",
            "\u001b[34m\u001b[1mwandb\u001b[0m: Currently logged in as: \u001b[33mtejaswiniksssn\u001b[0m (\u001b[33mtejaswiniksssn-indian-institute-of-technology-madras\u001b[0m) to \u001b[32mhttps://api.wandb.ai\u001b[0m. Use \u001b[1m`wandb login --relogin`\u001b[0m to force relogin\n"
          ]
        },
        {
          "output_type": "display_data",
          "data": {
            "text/plain": [
              "<IPython.core.display.HTML object>"
            ],
            "text/html": [
              "Ignoring project 'rl_qlearning_softmax' when running a sweep."
            ]
          },
          "metadata": {}
        },
        {
          "output_type": "display_data",
          "data": {
            "text/plain": [
              "<IPython.core.display.HTML object>"
            ],
            "text/html": [
              "Tracking run with wandb version 0.19.8"
            ]
          },
          "metadata": {}
        },
        {
          "output_type": "display_data",
          "data": {
            "text/plain": [
              "<IPython.core.display.HTML object>"
            ],
            "text/html": [
              "Run data is saved locally in <code>/content/wandb/run-20250322_061156-fficm5rm</code>"
            ]
          },
          "metadata": {}
        },
        {
          "output_type": "display_data",
          "data": {
            "text/plain": [
              "<IPython.core.display.HTML object>"
            ],
            "text/html": [
              "Syncing run <strong><a href='https://wandb.ai/tejaswiniksssn-indian-institute-of-technology-madras/rl_qlearning_softmax/runs/fficm5rm' target=\"_blank\">olive-sweep-1</a></strong> to <a href='https://wandb.ai/tejaswiniksssn-indian-institute-of-technology-madras/rl_qlearning_softmax' target=\"_blank\">Weights & Biases</a> (<a href='https://wandb.me/developer-guide' target=\"_blank\">docs</a>)<br>Sweep page: <a href='https://wandb.ai/tejaswiniksssn-indian-institute-of-technology-madras/rl_qlearning_softmax/sweeps/2i40hybt' target=\"_blank\">https://wandb.ai/tejaswiniksssn-indian-institute-of-technology-madras/rl_qlearning_softmax/sweeps/2i40hybt</a>"
            ]
          },
          "metadata": {}
        },
        {
          "output_type": "display_data",
          "data": {
            "text/plain": [
              "<IPython.core.display.HTML object>"
            ],
            "text/html": [
              " View project at <a href='https://wandb.ai/tejaswiniksssn-indian-institute-of-technology-madras/rl_qlearning_softmax' target=\"_blank\">https://wandb.ai/tejaswiniksssn-indian-institute-of-technology-madras/rl_qlearning_softmax</a>"
            ]
          },
          "metadata": {}
        },
        {
          "output_type": "display_data",
          "data": {
            "text/plain": [
              "<IPython.core.display.HTML object>"
            ],
            "text/html": [
              " View sweep at <a href='https://wandb.ai/tejaswiniksssn-indian-institute-of-technology-madras/rl_qlearning_softmax/sweeps/2i40hybt' target=\"_blank\">https://wandb.ai/tejaswiniksssn-indian-institute-of-technology-madras/rl_qlearning_softmax/sweeps/2i40hybt</a>"
            ]
          },
          "metadata": {}
        },
        {
          "output_type": "display_data",
          "data": {
            "text/plain": [
              "<IPython.core.display.HTML object>"
            ],
            "text/html": [
              " View run at <a href='https://wandb.ai/tejaswiniksssn-indian-institute-of-technology-madras/rl_qlearning_softmax/runs/fficm5rm' target=\"_blank\">https://wandb.ai/tejaswiniksssn-indian-institute-of-technology-madras/rl_qlearning_softmax/runs/fficm5rm</a>"
            ]
          },
          "metadata": {}
        },
        {
          "output_type": "stream",
          "name": "stderr",
          "text": [
            "<ipython-input-1-5274025344ad>:40: RuntimeWarning: overflow encountered in exp\n",
            "  exp_q = np.exp(q_values / tau)\n",
            "<ipython-input-1-5274025344ad>:41: RuntimeWarning: invalid value encountered in divide\n",
            "  probs = exp_q / np.sum(exp_q)\n"
          ]
        },
        {
          "output_type": "display_data",
          "data": {
            "text/plain": [
              "<IPython.core.display.HTML object>"
            ],
            "text/html": []
          },
          "metadata": {}
        },
        {
          "output_type": "display_data",
          "data": {
            "text/plain": [
              "<IPython.core.display.HTML object>"
            ],
            "text/html": [
              "<br>    <style><br>        .wandb-row {<br>            display: flex;<br>            flex-direction: row;<br>            flex-wrap: wrap;<br>            justify-content: flex-start;<br>            width: 100%;<br>        }<br>        .wandb-col {<br>            display: flex;<br>            flex-direction: column;<br>            flex-basis: 100%;<br>            flex: 1;<br>            padding: 10px;<br>        }<br>    </style><br><div class=\"wandb-row\"><div class=\"wandb-col\"><h3>Run history:</h3><br/><table class=\"wandb\"><tr><td>episode</td><td>▁▁▁▁▁▂▂▂▂▂▂▂▃▃▃▃▄▄▄▄▄▄▄▄▄▅▅▅▅▅▅▆▆▆▆▇▇▇▇█</td></tr><tr><td>regret</td><td>▂▇▇▇▆█▆▆▆▇▇██▇▇▇█▇▁▇▆▇█▃▇▇█▇▇▆▆▆▇▇▆▆▆█▅█</td></tr><tr><td>reward</td><td>▃▂▄▂▁▁▃▂█▁▁▁▃▁▁▆▂▂▃▁▁▁▂▁▂▁▁▁▂▂▁▁▂▃▁▁▁▂▃▁</td></tr><tr><td>tau</td><td>█▄▃▃▂▁▁▁▁▁▁▁▁▁▁▁▁▁▁▁▁▁▁▁▁▁▁▁▁▁▁▁▁▁▁▁▁▁▁▁</td></tr></table><br/></div><div class=\"wandb-col\"><h3>Run summary:</h3><br/><table class=\"wandb\"><tr><td>episode</td><td>1222</td></tr><tr><td>regret</td><td>487</td></tr><tr><td>reward</td><td>13</td></tr><tr><td>tau</td><td>0.01</td></tr></table><br/></div></div>"
            ]
          },
          "metadata": {}
        },
        {
          "output_type": "display_data",
          "data": {
            "text/plain": [
              "<IPython.core.display.HTML object>"
            ],
            "text/html": [
              " View run <strong style=\"color:#cdcd00\">olive-sweep-1</strong> at: <a href='https://wandb.ai/tejaswiniksssn-indian-institute-of-technology-madras/rl_qlearning_softmax/runs/fficm5rm' target=\"_blank\">https://wandb.ai/tejaswiniksssn-indian-institute-of-technology-madras/rl_qlearning_softmax/runs/fficm5rm</a><br> View project at: <a href='https://wandb.ai/tejaswiniksssn-indian-institute-of-technology-madras/rl_qlearning_softmax' target=\"_blank\">https://wandb.ai/tejaswiniksssn-indian-institute-of-technology-madras/rl_qlearning_softmax</a><br>Synced 5 W&B file(s), 0 media file(s), 0 artifact file(s) and 0 other file(s)"
            ]
          },
          "metadata": {}
        },
        {
          "output_type": "display_data",
          "data": {
            "text/plain": [
              "<IPython.core.display.HTML object>"
            ],
            "text/html": [
              "Find logs at: <code>./wandb/run-20250322_061156-fficm5rm/logs</code>"
            ]
          },
          "metadata": {}
        },
        {
          "output_type": "stream",
          "name": "stderr",
          "text": [
            "Run fficm5rm errored:\n",
            "Traceback (most recent call last):\n",
            "  File \"/usr/local/lib/python3.11/dist-packages/wandb/agents/pyagent.py\", line 306, in _run_job\n",
            "    self._function()\n",
            "  File \"<ipython-input-1-5274025344ad>\", line 68, in qlearning_softmax\n",
            "    action = softmax_action(q_table, state, tau)\n",
            "             ^^^^^^^^^^^^^^^^^^^^^^^^^^^^^^^^^^^\n",
            "  File \"<ipython-input-1-5274025344ad>\", line 42, in softmax_action\n",
            "    return np.random.choice(len(q_values), p=probs)\n",
            "           ^^^^^^^^^^^^^^^^^^^^^^^^^^^^^^^^^^^^^^^^\n",
            "  File \"numpy/random/mtrand.pyx\", line 994, in numpy.random.mtrand.RandomState.choice\n",
            "ValueError: probabilities contain NaN\n",
            "\n",
            "\u001b[34m\u001b[1mwandb\u001b[0m: \u001b[32m\u001b[41mERROR\u001b[0m Run fficm5rm errored:\n",
            "\u001b[34m\u001b[1mwandb\u001b[0m: \u001b[32m\u001b[41mERROR\u001b[0m Traceback (most recent call last):\n",
            "\u001b[34m\u001b[1mwandb\u001b[0m: \u001b[32m\u001b[41mERROR\u001b[0m   File \"/usr/local/lib/python3.11/dist-packages/wandb/agents/pyagent.py\", line 306, in _run_job\n",
            "\u001b[34m\u001b[1mwandb\u001b[0m: \u001b[32m\u001b[41mERROR\u001b[0m     self._function()\n",
            "\u001b[34m\u001b[1mwandb\u001b[0m: \u001b[32m\u001b[41mERROR\u001b[0m   File \"<ipython-input-1-5274025344ad>\", line 68, in qlearning_softmax\n",
            "\u001b[34m\u001b[1mwandb\u001b[0m: \u001b[32m\u001b[41mERROR\u001b[0m     action = softmax_action(q_table, state, tau)\n",
            "\u001b[34m\u001b[1mwandb\u001b[0m: \u001b[32m\u001b[41mERROR\u001b[0m              ^^^^^^^^^^^^^^^^^^^^^^^^^^^^^^^^^^^\n",
            "\u001b[34m\u001b[1mwandb\u001b[0m: \u001b[32m\u001b[41mERROR\u001b[0m   File \"<ipython-input-1-5274025344ad>\", line 42, in softmax_action\n",
            "\u001b[34m\u001b[1mwandb\u001b[0m: \u001b[32m\u001b[41mERROR\u001b[0m     return np.random.choice(len(q_values), p=probs)\n",
            "\u001b[34m\u001b[1mwandb\u001b[0m: \u001b[32m\u001b[41mERROR\u001b[0m            ^^^^^^^^^^^^^^^^^^^^^^^^^^^^^^^^^^^^^^^^\n",
            "\u001b[34m\u001b[1mwandb\u001b[0m: \u001b[32m\u001b[41mERROR\u001b[0m   File \"numpy/random/mtrand.pyx\", line 994, in numpy.random.mtrand.RandomState.choice\n",
            "\u001b[34m\u001b[1mwandb\u001b[0m: \u001b[32m\u001b[41mERROR\u001b[0m ValueError: probabilities contain NaN\n",
            "\u001b[34m\u001b[1mwandb\u001b[0m: \u001b[32m\u001b[41mERROR\u001b[0m \n",
            "\u001b[34m\u001b[1mwandb\u001b[0m: Agent Starting Run: rrdu1jmp with config:\n",
            "\u001b[34m\u001b[1mwandb\u001b[0m: \talpha: 0.5\n",
            "\u001b[34m\u001b[1mwandb\u001b[0m: \ttau: 0.05\n"
          ]
        },
        {
          "output_type": "display_data",
          "data": {
            "text/plain": [
              "<IPython.core.display.HTML object>"
            ],
            "text/html": [
              "Ignoring project 'rl_qlearning_softmax' when running a sweep."
            ]
          },
          "metadata": {}
        },
        {
          "output_type": "display_data",
          "data": {
            "text/plain": [
              "<IPython.core.display.HTML object>"
            ],
            "text/html": [
              "Tracking run with wandb version 0.19.8"
            ]
          },
          "metadata": {}
        },
        {
          "output_type": "display_data",
          "data": {
            "text/plain": [
              "<IPython.core.display.HTML object>"
            ],
            "text/html": [
              "Run data is saved locally in <code>/content/wandb/run-20250322_061206-rrdu1jmp</code>"
            ]
          },
          "metadata": {}
        },
        {
          "output_type": "display_data",
          "data": {
            "text/plain": [
              "<IPython.core.display.HTML object>"
            ],
            "text/html": [
              "Syncing run <strong><a href='https://wandb.ai/tejaswiniksssn-indian-institute-of-technology-madras/rl_qlearning_softmax/runs/rrdu1jmp' target=\"_blank\">eager-sweep-2</a></strong> to <a href='https://wandb.ai/tejaswiniksssn-indian-institute-of-technology-madras/rl_qlearning_softmax' target=\"_blank\">Weights & Biases</a> (<a href='https://wandb.me/developer-guide' target=\"_blank\">docs</a>)<br>Sweep page: <a href='https://wandb.ai/tejaswiniksssn-indian-institute-of-technology-madras/rl_qlearning_softmax/sweeps/2i40hybt' target=\"_blank\">https://wandb.ai/tejaswiniksssn-indian-institute-of-technology-madras/rl_qlearning_softmax/sweeps/2i40hybt</a>"
            ]
          },
          "metadata": {}
        },
        {
          "output_type": "display_data",
          "data": {
            "text/plain": [
              "<IPython.core.display.HTML object>"
            ],
            "text/html": [
              " View project at <a href='https://wandb.ai/tejaswiniksssn-indian-institute-of-technology-madras/rl_qlearning_softmax' target=\"_blank\">https://wandb.ai/tejaswiniksssn-indian-institute-of-technology-madras/rl_qlearning_softmax</a>"
            ]
          },
          "metadata": {}
        },
        {
          "output_type": "display_data",
          "data": {
            "text/plain": [
              "<IPython.core.display.HTML object>"
            ],
            "text/html": [
              " View sweep at <a href='https://wandb.ai/tejaswiniksssn-indian-institute-of-technology-madras/rl_qlearning_softmax/sweeps/2i40hybt' target=\"_blank\">https://wandb.ai/tejaswiniksssn-indian-institute-of-technology-madras/rl_qlearning_softmax/sweeps/2i40hybt</a>"
            ]
          },
          "metadata": {}
        },
        {
          "output_type": "display_data",
          "data": {
            "text/plain": [
              "<IPython.core.display.HTML object>"
            ],
            "text/html": [
              " View run at <a href='https://wandb.ai/tejaswiniksssn-indian-institute-of-technology-madras/rl_qlearning_softmax/runs/rrdu1jmp' target=\"_blank\">https://wandb.ai/tejaswiniksssn-indian-institute-of-technology-madras/rl_qlearning_softmax/runs/rrdu1jmp</a>"
            ]
          },
          "metadata": {}
        },
        {
          "output_type": "display_data",
          "data": {
            "text/plain": [
              "<IPython.core.display.HTML object>"
            ],
            "text/html": []
          },
          "metadata": {}
        },
        {
          "output_type": "display_data",
          "data": {
            "text/plain": [
              "<IPython.core.display.HTML object>"
            ],
            "text/html": [
              "<br>    <style><br>        .wandb-row {<br>            display: flex;<br>            flex-direction: row;<br>            flex-wrap: wrap;<br>            justify-content: flex-start;<br>            width: 100%;<br>        }<br>        .wandb-col {<br>            display: flex;<br>            flex-direction: column;<br>            flex-basis: 100%;<br>            flex: 1;<br>            padding: 10px;<br>        }<br>    </style><br><div class=\"wandb-row\"><div class=\"wandb-col\"><h3>Run history:</h3><br/><table class=\"wandb\"><tr><td>episode</td><td>▁▁▂▂▂▃▃▃▄▄▄▅▅▅▆▆▆▇▇▇██</td></tr><tr><td>regret</td><td>▆▆▇▂▇▇▇▄▅▁▇▅█▆▇▁▇█▃▇█▇</td></tr><tr><td>reward</td><td>▃▃▂▇▂▂▂▅▄█▂▄▁▃▂█▂▁▆▂▁▂</td></tr><tr><td>tau</td><td>█████▇▇▇▇▇▆▆▅▅▅▄▄▃▃▂▂▁</td></tr></table><br/></div><div class=\"wandb-col\"><h3>Run summary:</h3><br/><table class=\"wandb\"><tr><td>episode</td><td>22</td></tr><tr><td>regret</td><td>454</td></tr><tr><td>reward</td><td>46</td></tr><tr><td>tau</td><td>0.03969</td></tr></table><br/></div></div>"
            ]
          },
          "metadata": {}
        },
        {
          "output_type": "display_data",
          "data": {
            "text/plain": [
              "<IPython.core.display.HTML object>"
            ],
            "text/html": [
              " View run <strong style=\"color:#cdcd00\">eager-sweep-2</strong> at: <a href='https://wandb.ai/tejaswiniksssn-indian-institute-of-technology-madras/rl_qlearning_softmax/runs/rrdu1jmp' target=\"_blank\">https://wandb.ai/tejaswiniksssn-indian-institute-of-technology-madras/rl_qlearning_softmax/runs/rrdu1jmp</a><br> View project at: <a href='https://wandb.ai/tejaswiniksssn-indian-institute-of-technology-madras/rl_qlearning_softmax' target=\"_blank\">https://wandb.ai/tejaswiniksssn-indian-institute-of-technology-madras/rl_qlearning_softmax</a><br>Synced 5 W&B file(s), 0 media file(s), 0 artifact file(s) and 0 other file(s)"
            ]
          },
          "metadata": {}
        },
        {
          "output_type": "display_data",
          "data": {
            "text/plain": [
              "<IPython.core.display.HTML object>"
            ],
            "text/html": [
              "Find logs at: <code>./wandb/run-20250322_061206-rrdu1jmp/logs</code>"
            ]
          },
          "metadata": {}
        },
        {
          "output_type": "stream",
          "name": "stderr",
          "text": [
            "Run rrdu1jmp errored:\n",
            "Traceback (most recent call last):\n",
            "  File \"/usr/local/lib/python3.11/dist-packages/wandb/agents/pyagent.py\", line 306, in _run_job\n",
            "    self._function()\n",
            "  File \"<ipython-input-1-5274025344ad>\", line 68, in qlearning_softmax\n",
            "    action = softmax_action(q_table, state, tau)\n",
            "             ^^^^^^^^^^^^^^^^^^^^^^^^^^^^^^^^^^^\n",
            "  File \"<ipython-input-1-5274025344ad>\", line 42, in softmax_action\n",
            "    return np.random.choice(len(q_values), p=probs)\n",
            "           ^^^^^^^^^^^^^^^^^^^^^^^^^^^^^^^^^^^^^^^^\n",
            "  File \"numpy/random/mtrand.pyx\", line 994, in numpy.random.mtrand.RandomState.choice\n",
            "ValueError: probabilities contain NaN\n",
            "\n",
            "\u001b[34m\u001b[1mwandb\u001b[0m: \u001b[32m\u001b[41mERROR\u001b[0m Run rrdu1jmp errored:\n",
            "\u001b[34m\u001b[1mwandb\u001b[0m: \u001b[32m\u001b[41mERROR\u001b[0m Traceback (most recent call last):\n",
            "\u001b[34m\u001b[1mwandb\u001b[0m: \u001b[32m\u001b[41mERROR\u001b[0m   File \"/usr/local/lib/python3.11/dist-packages/wandb/agents/pyagent.py\", line 306, in _run_job\n",
            "\u001b[34m\u001b[1mwandb\u001b[0m: \u001b[32m\u001b[41mERROR\u001b[0m     self._function()\n",
            "\u001b[34m\u001b[1mwandb\u001b[0m: \u001b[32m\u001b[41mERROR\u001b[0m   File \"<ipython-input-1-5274025344ad>\", line 68, in qlearning_softmax\n",
            "\u001b[34m\u001b[1mwandb\u001b[0m: \u001b[32m\u001b[41mERROR\u001b[0m     action = softmax_action(q_table, state, tau)\n",
            "\u001b[34m\u001b[1mwandb\u001b[0m: \u001b[32m\u001b[41mERROR\u001b[0m              ^^^^^^^^^^^^^^^^^^^^^^^^^^^^^^^^^^^\n",
            "\u001b[34m\u001b[1mwandb\u001b[0m: \u001b[32m\u001b[41mERROR\u001b[0m   File \"<ipython-input-1-5274025344ad>\", line 42, in softmax_action\n",
            "\u001b[34m\u001b[1mwandb\u001b[0m: \u001b[32m\u001b[41mERROR\u001b[0m     return np.random.choice(len(q_values), p=probs)\n",
            "\u001b[34m\u001b[1mwandb\u001b[0m: \u001b[32m\u001b[41mERROR\u001b[0m            ^^^^^^^^^^^^^^^^^^^^^^^^^^^^^^^^^^^^^^^^\n",
            "\u001b[34m\u001b[1mwandb\u001b[0m: \u001b[32m\u001b[41mERROR\u001b[0m   File \"numpy/random/mtrand.pyx\", line 994, in numpy.random.mtrand.RandomState.choice\n",
            "\u001b[34m\u001b[1mwandb\u001b[0m: \u001b[32m\u001b[41mERROR\u001b[0m ValueError: probabilities contain NaN\n",
            "\u001b[34m\u001b[1mwandb\u001b[0m: \u001b[32m\u001b[41mERROR\u001b[0m \n",
            "\u001b[34m\u001b[1mwandb\u001b[0m: Agent Starting Run: jc6gpmr5 with config:\n",
            "\u001b[34m\u001b[1mwandb\u001b[0m: \talpha: 0.5\n",
            "\u001b[34m\u001b[1mwandb\u001b[0m: \ttau: 1\n"
          ]
        },
        {
          "output_type": "display_data",
          "data": {
            "text/plain": [
              "<IPython.core.display.HTML object>"
            ],
            "text/html": [
              "Ignoring project 'rl_qlearning_softmax' when running a sweep."
            ]
          },
          "metadata": {}
        },
        {
          "output_type": "display_data",
          "data": {
            "text/plain": [
              "<IPython.core.display.HTML object>"
            ],
            "text/html": [
              "Tracking run with wandb version 0.19.8"
            ]
          },
          "metadata": {}
        },
        {
          "output_type": "display_data",
          "data": {
            "text/plain": [
              "<IPython.core.display.HTML object>"
            ],
            "text/html": [
              "Run data is saved locally in <code>/content/wandb/run-20250322_061212-jc6gpmr5</code>"
            ]
          },
          "metadata": {}
        },
        {
          "output_type": "display_data",
          "data": {
            "text/plain": [
              "<IPython.core.display.HTML object>"
            ],
            "text/html": [
              "Syncing run <strong><a href='https://wandb.ai/tejaswiniksssn-indian-institute-of-technology-madras/rl_qlearning_softmax/runs/jc6gpmr5' target=\"_blank\">lemon-sweep-3</a></strong> to <a href='https://wandb.ai/tejaswiniksssn-indian-institute-of-technology-madras/rl_qlearning_softmax' target=\"_blank\">Weights & Biases</a> (<a href='https://wandb.me/developer-guide' target=\"_blank\">docs</a>)<br>Sweep page: <a href='https://wandb.ai/tejaswiniksssn-indian-institute-of-technology-madras/rl_qlearning_softmax/sweeps/2i40hybt' target=\"_blank\">https://wandb.ai/tejaswiniksssn-indian-institute-of-technology-madras/rl_qlearning_softmax/sweeps/2i40hybt</a>"
            ]
          },
          "metadata": {}
        },
        {
          "output_type": "display_data",
          "data": {
            "text/plain": [
              "<IPython.core.display.HTML object>"
            ],
            "text/html": [
              " View project at <a href='https://wandb.ai/tejaswiniksssn-indian-institute-of-technology-madras/rl_qlearning_softmax' target=\"_blank\">https://wandb.ai/tejaswiniksssn-indian-institute-of-technology-madras/rl_qlearning_softmax</a>"
            ]
          },
          "metadata": {}
        },
        {
          "output_type": "display_data",
          "data": {
            "text/plain": [
              "<IPython.core.display.HTML object>"
            ],
            "text/html": [
              " View sweep at <a href='https://wandb.ai/tejaswiniksssn-indian-institute-of-technology-madras/rl_qlearning_softmax/sweeps/2i40hybt' target=\"_blank\">https://wandb.ai/tejaswiniksssn-indian-institute-of-technology-madras/rl_qlearning_softmax/sweeps/2i40hybt</a>"
            ]
          },
          "metadata": {}
        },
        {
          "output_type": "display_data",
          "data": {
            "text/plain": [
              "<IPython.core.display.HTML object>"
            ],
            "text/html": [
              " View run at <a href='https://wandb.ai/tejaswiniksssn-indian-institute-of-technology-madras/rl_qlearning_softmax/runs/jc6gpmr5' target=\"_blank\">https://wandb.ai/tejaswiniksssn-indian-institute-of-technology-madras/rl_qlearning_softmax/runs/jc6gpmr5</a>"
            ]
          },
          "metadata": {}
        },
        {
          "output_type": "display_data",
          "data": {
            "text/plain": [
              "<IPython.core.display.HTML object>"
            ],
            "text/html": []
          },
          "metadata": {}
        },
        {
          "output_type": "display_data",
          "data": {
            "text/plain": [
              "<IPython.core.display.HTML object>"
            ],
            "text/html": [
              "<br>    <style><br>        .wandb-row {<br>            display: flex;<br>            flex-direction: row;<br>            flex-wrap: wrap;<br>            justify-content: flex-start;<br>            width: 100%;<br>        }<br>        .wandb-col {<br>            display: flex;<br>            flex-direction: column;<br>            flex-basis: 100%;<br>            flex: 1;<br>            padding: 10px;<br>        }<br>    </style><br><div class=\"wandb-row\"><div class=\"wandb-col\"><h3>Run history:</h3><br/><table class=\"wandb\"><tr><td>episode</td><td>▁▁▁▂▂▂▂▃▃▃▃▃▃▄▄▄▄▄▅▅▅▅▅▅▆▆▆▆▆▆▇▇▇▇▇▇████</td></tr><tr><td>regret</td><td>▅██▇▇▆▅▇▇▇▄▁▆▅▂▃▅▄▃▇▃▁▄▂▃▇▂▄█▇▄▆▃▁▇▃▆▄▇▄</td></tr><tr><td>reward</td><td>▅▃▂▁▁▁▃▄▃▄▂▂▆▆▇▄▇▄▅▆▆▆▂▅▂▂▅▂▆▄█▂▅▆▆▆▃▂▂▅</td></tr><tr><td>tau</td><td>██████▇▇▇▇▆▆▆▆▆▅▅▄▄▄▃▃▃▃▃▂▂▂▂▂▂▁▁▁▁▁▁▁▁▁</td></tr></table><br/></div><div class=\"wandb-col\"><h3>Run summary:</h3><br/><table class=\"wandb\"><tr><td>episode</td><td>81</td></tr><tr><td>regret</td><td>460</td></tr><tr><td>reward</td><td>40</td></tr><tr><td>tau</td><td>0.03916</td></tr></table><br/></div></div>"
            ]
          },
          "metadata": {}
        },
        {
          "output_type": "display_data",
          "data": {
            "text/plain": [
              "<IPython.core.display.HTML object>"
            ],
            "text/html": [
              " View run <strong style=\"color:#cdcd00\">lemon-sweep-3</strong> at: <a href='https://wandb.ai/tejaswiniksssn-indian-institute-of-technology-madras/rl_qlearning_softmax/runs/jc6gpmr5' target=\"_blank\">https://wandb.ai/tejaswiniksssn-indian-institute-of-technology-madras/rl_qlearning_softmax/runs/jc6gpmr5</a><br> View project at: <a href='https://wandb.ai/tejaswiniksssn-indian-institute-of-technology-madras/rl_qlearning_softmax' target=\"_blank\">https://wandb.ai/tejaswiniksssn-indian-institute-of-technology-madras/rl_qlearning_softmax</a><br>Synced 5 W&B file(s), 0 media file(s), 0 artifact file(s) and 0 other file(s)"
            ]
          },
          "metadata": {}
        },
        {
          "output_type": "display_data",
          "data": {
            "text/plain": [
              "<IPython.core.display.HTML object>"
            ],
            "text/html": [
              "Find logs at: <code>./wandb/run-20250322_061212-jc6gpmr5/logs</code>"
            ]
          },
          "metadata": {}
        },
        {
          "output_type": "stream",
          "name": "stderr",
          "text": [
            "Run jc6gpmr5 errored:\n",
            "Traceback (most recent call last):\n",
            "  File \"/usr/local/lib/python3.11/dist-packages/wandb/agents/pyagent.py\", line 306, in _run_job\n",
            "    self._function()\n",
            "  File \"<ipython-input-1-5274025344ad>\", line 68, in qlearning_softmax\n",
            "    action = softmax_action(q_table, state, tau)\n",
            "             ^^^^^^^^^^^^^^^^^^^^^^^^^^^^^^^^^^^\n",
            "  File \"<ipython-input-1-5274025344ad>\", line 42, in softmax_action\n",
            "    return np.random.choice(len(q_values), p=probs)\n",
            "           ^^^^^^^^^^^^^^^^^^^^^^^^^^^^^^^^^^^^^^^^\n",
            "  File \"numpy/random/mtrand.pyx\", line 994, in numpy.random.mtrand.RandomState.choice\n",
            "ValueError: probabilities contain NaN\n",
            "\n",
            "\u001b[34m\u001b[1mwandb\u001b[0m: \u001b[32m\u001b[41mERROR\u001b[0m Run jc6gpmr5 errored:\n",
            "\u001b[34m\u001b[1mwandb\u001b[0m: \u001b[32m\u001b[41mERROR\u001b[0m Traceback (most recent call last):\n",
            "\u001b[34m\u001b[1mwandb\u001b[0m: \u001b[32m\u001b[41mERROR\u001b[0m   File \"/usr/local/lib/python3.11/dist-packages/wandb/agents/pyagent.py\", line 306, in _run_job\n",
            "\u001b[34m\u001b[1mwandb\u001b[0m: \u001b[32m\u001b[41mERROR\u001b[0m     self._function()\n",
            "\u001b[34m\u001b[1mwandb\u001b[0m: \u001b[32m\u001b[41mERROR\u001b[0m   File \"<ipython-input-1-5274025344ad>\", line 68, in qlearning_softmax\n",
            "\u001b[34m\u001b[1mwandb\u001b[0m: \u001b[32m\u001b[41mERROR\u001b[0m     action = softmax_action(q_table, state, tau)\n",
            "\u001b[34m\u001b[1mwandb\u001b[0m: \u001b[32m\u001b[41mERROR\u001b[0m              ^^^^^^^^^^^^^^^^^^^^^^^^^^^^^^^^^^^\n",
            "\u001b[34m\u001b[1mwandb\u001b[0m: \u001b[32m\u001b[41mERROR\u001b[0m   File \"<ipython-input-1-5274025344ad>\", line 42, in softmax_action\n",
            "\u001b[34m\u001b[1mwandb\u001b[0m: \u001b[32m\u001b[41mERROR\u001b[0m     return np.random.choice(len(q_values), p=probs)\n",
            "\u001b[34m\u001b[1mwandb\u001b[0m: \u001b[32m\u001b[41mERROR\u001b[0m            ^^^^^^^^^^^^^^^^^^^^^^^^^^^^^^^^^^^^^^^^\n",
            "\u001b[34m\u001b[1mwandb\u001b[0m: \u001b[32m\u001b[41mERROR\u001b[0m   File \"numpy/random/mtrand.pyx\", line 994, in numpy.random.mtrand.RandomState.choice\n",
            "\u001b[34m\u001b[1mwandb\u001b[0m: \u001b[32m\u001b[41mERROR\u001b[0m ValueError: probabilities contain NaN\n",
            "\u001b[34m\u001b[1mwandb\u001b[0m: \u001b[32m\u001b[41mERROR\u001b[0m \n",
            "Detected 3 failed runs in the first 60 seconds, killing sweep.\n",
            "\u001b[34m\u001b[1mwandb\u001b[0m: \u001b[32m\u001b[41mERROR\u001b[0m Detected 3 failed runs in the first 60 seconds, killing sweep.\n",
            "\u001b[34m\u001b[1mwandb\u001b[0m: To disable this check set WANDB_AGENT_DISABLE_FLAPPING=true\n"
          ]
        }
      ],
      "source": [
        "import numpy as np\n",
        "import gymnasium as gym\n",
        "import random\n",
        "import wandb\n",
        "\n",
        "# W&B Sweep Configuration\n",
        "sweep_config = {\n",
        "    \"method\": \"bayes\",  # Bayesian Optimization\n",
        "    \"metric\": {\"name\": \"avg_regret\", \"goal\": \"minimize\"},\n",
        "    \"parameters\": {\n",
        "        \"alpha\": {\"values\": [0.001, 0.01, 0.1, 0.15, 0.2, 0.3, 0.4, 0.5]},\n",
        "        \"tau\": {\"values\": [1.0, 0.5, 0.1, 0.05, 0.01]},\n",
        "    }\n",
        "}\n",
        "\n",
        "sweep_id = wandb.sweep(sweep_config, project=\"rl_qlearning_softmax\")\n",
        "\n",
        "# Other constants\n",
        "GAMMA = 0.99\n",
        "TAU_MIN = 0.01\n",
        "MAX_EPISODES = 10000\n",
        "MAX_STEPS = 500\n",
        "NUM_BINS = 20\n",
        "SOLVED_CRITERIA = 500\n",
        "CONSECUTIVE_EPISODES = 50\n",
        "\n",
        "# State discretization bounds\n",
        "state_bounds = [\n",
        "    [-4.8, 4.8],\n",
        "    [-3.0, 3.0],\n",
        "    [-0.418, 0.418],\n",
        "    [-3.0, 3.0]\n",
        "]\n",
        "\n",
        "def discretize_state(state):\n",
        "    return tuple(np.digitize(state[i], np.linspace(state_bounds[i][0], state_bounds[i][1], NUM_BINS)) - 1 for i in range(len(state)))\n",
        "\n",
        "def softmax_action(q_table, state, tau):\n",
        "    q_values = q_table[state]\n",
        "    exp_q = np.exp(q_values / tau)\n",
        "    probs = exp_q / np.sum(exp_q)\n",
        "    return np.random.choice(len(q_values), p=probs)\n",
        "\n",
        "def check_mean_crossings(returns):\n",
        "    count = 0\n",
        "    for i in range(len(returns) - CONSECUTIVE_EPISODES + 1):\n",
        "        if np.mean(returns[i:i + CONSECUTIVE_EPISODES]) >= SOLVED_CRITERIA:\n",
        "            count += 1\n",
        "    return count\n",
        "\n",
        "def qlearning_softmax():\n",
        "    # Initialize W&B for each run\n",
        "    wandb.init(project=\"rl_qlearning_softmax\", config=wandb.config)\n",
        "\n",
        "    alpha = wandb.config.alpha\n",
        "    tau = wandb.config.tau\n",
        "    env = gym.make(\"CartPole-v1\")\n",
        "\n",
        "    q_table = np.zeros((NUM_BINS, NUM_BINS, NUM_BINS, NUM_BINS, env.action_space.n))\n",
        "    returns, regret = [], []\n",
        "\n",
        "    for episode in range(MAX_EPISODES):\n",
        "        tau = max(TAU_MIN, tau * np.exp(-0.001 * episode))  # Decay tau over time\n",
        "        state = discretize_state(env.reset()[0])\n",
        "        total_reward = 0\n",
        "\n",
        "        for _ in range(MAX_STEPS):\n",
        "            action = softmax_action(q_table, state, tau)\n",
        "            next_state, reward, terminated, truncated, _ = env.step(action)\n",
        "            next_state = discretize_state(next_state)\n",
        "\n",
        "            best_next_action = np.argmax(q_table[next_state])\n",
        "            td_target = reward + (GAMMA * q_table[next_state][best_next_action] if not (terminated or truncated) else 0)\n",
        "            q_table[state][action] += alpha * (td_target - q_table[state][action])\n",
        "\n",
        "            state = next_state\n",
        "            total_reward += reward\n",
        "            if terminated or truncated:\n",
        "                break\n",
        "\n",
        "        returns.append(total_reward)\n",
        "        regret.append(MAX_STEPS - total_reward)\n",
        "\n",
        "        # Log per episode\n",
        "        wandb.log({\"episode\": episode + 1, \"reward\": total_reward, \"regret\": regret[-1], \"tau\": tau})\n",
        "\n",
        "    avg_regret = np.mean(regret)\n",
        "    mean_cross_count = check_mean_crossings(returns)\n",
        "\n",
        "    # Final log per experiment\n",
        "    wandb.log({\"alpha\": alpha, \"tau\": tau, \"avg_regret\": avg_regret, \"mean_cross_count\": mean_cross_count})\n",
        "    wandb.finish()\n",
        "\n",
        "# Run the Sweep Agent\n",
        "wandb.agent(sweep_id, function=qlearning_softmax, count=20)  # Run 20 experiments\n"
      ]
    }
  ]
}