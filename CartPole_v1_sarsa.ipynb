{
  "nbformat": 4,
  "nbformat_minor": 0,
  "metadata": {
    "colab": {
      "provenance": [],
      "authorship_tag": "ABX9TyOZrjV38rZEVvSvpSuLhzyW",
      "include_colab_link": true
    },
    "kernelspec": {
      "name": "python3",
      "display_name": "Python 3"
    },
    "language_info": {
      "name": "python"
    }
  },
  "cells": [
    {
      "cell_type": "markdown",
      "metadata": {
        "id": "view-in-github",
        "colab_type": "text"
      },
      "source": [
        "<a href=\"https://colab.research.google.com/github/Tejaswini170104/CH5020-Term-paper-presentation/blob/main/CartPole_v1_sarsa.ipynb\" target=\"_parent\"><img src=\"https://colab.research.google.com/assets/colab-badge.svg\" alt=\"Open In Colab\"/></a>"
      ]
    },
    {
      "cell_type": "code",
      "execution_count": 7,
      "metadata": {
        "id": "2QT0bzZ6jwTF",
        "colab": {
          "base_uri": "https://localhost:8080/",
          "height": 1000
        },
        "outputId": "28879645-71eb-4790-f682-adc278e40fb5"
      },
      "outputs": [
        {
          "output_type": "stream",
          "name": "stderr",
          "text": [
            "\u001b[34m\u001b[1mwandb\u001b[0m: Using wandb-core as the SDK backend.  Please refer to https://wandb.me/wandb-core for more information.\n"
          ]
        },
        {
          "output_type": "display_data",
          "data": {
            "text/plain": [
              "<IPython.core.display.Javascript object>"
            ],
            "application/javascript": [
              "\n",
              "        window._wandbApiKey = new Promise((resolve, reject) => {\n",
              "            function loadScript(url) {\n",
              "            return new Promise(function(resolve, reject) {\n",
              "                let newScript = document.createElement(\"script\");\n",
              "                newScript.onerror = reject;\n",
              "                newScript.onload = resolve;\n",
              "                document.body.appendChild(newScript);\n",
              "                newScript.src = url;\n",
              "            });\n",
              "            }\n",
              "            loadScript(\"https://cdn.jsdelivr.net/npm/postmate/build/postmate.min.js\").then(() => {\n",
              "            const iframe = document.createElement('iframe')\n",
              "            iframe.style.cssText = \"width:0;height:0;border:none\"\n",
              "            document.body.appendChild(iframe)\n",
              "            const handshake = new Postmate({\n",
              "                container: iframe,\n",
              "                url: 'https://wandb.ai/authorize'\n",
              "            });\n",
              "            const timeout = setTimeout(() => reject(\"Couldn't auto authenticate\"), 5000)\n",
              "            handshake.then(function(child) {\n",
              "                child.on('authorize', data => {\n",
              "                    clearTimeout(timeout)\n",
              "                    resolve(data)\n",
              "                });\n",
              "            });\n",
              "            })\n",
              "        });\n",
              "    "
            ]
          },
          "metadata": {}
        },
        {
          "output_type": "stream",
          "name": "stderr",
          "text": [
            "\u001b[34m\u001b[1mwandb\u001b[0m: Logging into wandb.ai. (Learn how to deploy a W&B server locally: https://wandb.me/wandb-server)\n",
            "\u001b[34m\u001b[1mwandb\u001b[0m: You can find your API key in your browser here: https://wandb.ai/authorize\n",
            "wandb: Paste an API key from your profile and hit enter:"
          ]
        },
        {
          "name": "stdout",
          "output_type": "stream",
          "text": [
            " ··········\n"
          ]
        },
        {
          "output_type": "stream",
          "name": "stderr",
          "text": [
            "\u001b[34m\u001b[1mwandb\u001b[0m: \u001b[33mWARNING\u001b[0m If you're specifying your api key in code, ensure this code is not shared publicly.\n",
            "\u001b[34m\u001b[1mwandb\u001b[0m: \u001b[33mWARNING\u001b[0m Consider setting the WANDB_API_KEY environment variable, or running `wandb login` from the command line.\n",
            "\u001b[34m\u001b[1mwandb\u001b[0m: No netrc file found, creating one.\n",
            "\u001b[34m\u001b[1mwandb\u001b[0m: Appending key for api.wandb.ai to your netrc file: /root/.netrc\n"
          ]
        },
        {
          "output_type": "stream",
          "name": "stdout",
          "text": [
            "Create sweep with ID: y7dexche\n",
            "Sweep URL: https://wandb.ai/tejaswiniksssn-indian-institute-of-technology-madras/RL%20CartPole%20SARSA/sweeps/y7dexche\n"
          ]
        },
        {
          "output_type": "stream",
          "name": "stderr",
          "text": [
            "\u001b[34m\u001b[1mwandb\u001b[0m: Agent Starting Run: qa83qth3 with config:\n",
            "\u001b[34m\u001b[1mwandb\u001b[0m: \talpha: 0.1\n",
            "\u001b[34m\u001b[1mwandb\u001b[0m: \tlambda_decay: 0.001\n",
            "\u001b[34m\u001b[1mwandb\u001b[0m: Currently logged in as: \u001b[33mtejaswiniksssn\u001b[0m (\u001b[33mtejaswiniksssn-indian-institute-of-technology-madras\u001b[0m) to \u001b[32mhttps://api.wandb.ai\u001b[0m. Use \u001b[1m`wandb login --relogin`\u001b[0m to force relogin\n"
          ]
        },
        {
          "output_type": "display_data",
          "data": {
            "text/plain": [
              "<IPython.core.display.HTML object>"
            ],
            "text/html": [
              "Ignoring project 'cpsarsa' when running a sweep."
            ]
          },
          "metadata": {}
        },
        {
          "output_type": "display_data",
          "data": {
            "text/plain": [
              "<IPython.core.display.HTML object>"
            ],
            "text/html": [
              "Tracking run with wandb version 0.19.8"
            ]
          },
          "metadata": {}
        },
        {
          "output_type": "display_data",
          "data": {
            "text/plain": [
              "<IPython.core.display.HTML object>"
            ],
            "text/html": [
              "Run data is saved locally in <code>/content/wandb/run-20250324_053654-qa83qth3</code>"
            ]
          },
          "metadata": {}
        },
        {
          "output_type": "display_data",
          "data": {
            "text/plain": [
              "<IPython.core.display.HTML object>"
            ],
            "text/html": [
              "Syncing run <strong><a href='https://wandb.ai/tejaswiniksssn-indian-institute-of-technology-madras/RL%20CartPole%20SARSA/runs/qa83qth3' target=\"_blank\">vivid-sweep-1</a></strong> to <a href='https://wandb.ai/tejaswiniksssn-indian-institute-of-technology-madras/RL%20CartPole%20SARSA' target=\"_blank\">Weights & Biases</a> (<a href='https://wandb.me/developer-guide' target=\"_blank\">docs</a>)<br>Sweep page: <a href='https://wandb.ai/tejaswiniksssn-indian-institute-of-technology-madras/RL%20CartPole%20SARSA/sweeps/y7dexche' target=\"_blank\">https://wandb.ai/tejaswiniksssn-indian-institute-of-technology-madras/RL%20CartPole%20SARSA/sweeps/y7dexche</a>"
            ]
          },
          "metadata": {}
        },
        {
          "output_type": "display_data",
          "data": {
            "text/plain": [
              "<IPython.core.display.HTML object>"
            ],
            "text/html": [
              " View project at <a href='https://wandb.ai/tejaswiniksssn-indian-institute-of-technology-madras/RL%20CartPole%20SARSA' target=\"_blank\">https://wandb.ai/tejaswiniksssn-indian-institute-of-technology-madras/RL%20CartPole%20SARSA</a>"
            ]
          },
          "metadata": {}
        },
        {
          "output_type": "display_data",
          "data": {
            "text/plain": [
              "<IPython.core.display.HTML object>"
            ],
            "text/html": [
              " View sweep at <a href='https://wandb.ai/tejaswiniksssn-indian-institute-of-technology-madras/RL%20CartPole%20SARSA/sweeps/y7dexche' target=\"_blank\">https://wandb.ai/tejaswiniksssn-indian-institute-of-technology-madras/RL%20CartPole%20SARSA/sweeps/y7dexche</a>"
            ]
          },
          "metadata": {}
        },
        {
          "output_type": "display_data",
          "data": {
            "text/plain": [
              "<IPython.core.display.HTML object>"
            ],
            "text/html": [
              " View run at <a href='https://wandb.ai/tejaswiniksssn-indian-institute-of-technology-madras/RL%20CartPole%20SARSA/runs/qa83qth3' target=\"_blank\">https://wandb.ai/tejaswiniksssn-indian-institute-of-technology-madras/RL%20CartPole%20SARSA/runs/qa83qth3</a>"
            ]
          },
          "metadata": {}
        },
        {
          "output_type": "display_data",
          "data": {
            "text/plain": [
              "<IPython.core.display.HTML object>"
            ],
            "text/html": []
          },
          "metadata": {}
        },
        {
          "output_type": "display_data",
          "data": {
            "text/plain": [
              "<IPython.core.display.HTML object>"
            ],
            "text/html": [
              "<br>    <style><br>        .wandb-row {<br>            display: flex;<br>            flex-direction: row;<br>            flex-wrap: wrap;<br>            justify-content: flex-start;<br>            width: 100%;<br>        }<br>        .wandb-col {<br>            display: flex;<br>            flex-direction: column;<br>            flex-basis: 100%;<br>            flex: 1;<br>            padding: 10px;<br>        }<br>    </style><br><div class=\"wandb-row\"><div class=\"wandb-col\"><h3>Run history:</h3><br/><table class=\"wandb\"><tr><td>episode</td><td>▁▁▁▁▁▂▂▂▂▂▃▃▃▃▄▄▄▅▅▅▅▅▅▅▆▆▆▆▆▆▆▇▇▇▇▇████</td></tr><tr><td>final_mean_reward_alpha_0.1_lambda_0.001</td><td>▁</td></tr><tr><td>final_regret_variance_alpha_0.1_lambda_0.001</td><td>▁</td></tr><tr><td>final_reward_variance_alpha_0.1_lambda_0.001</td><td>▁</td></tr><tr><td>final_total_regret_alpha_0.1_lambda_0.001</td><td>▁</td></tr><tr><td>mean_regret_alpha_0.1_lambda_0.001</td><td>████▇▄▁▃▂▄▄▃▄▃▂▁▃▁▄▂▃▃▄▃▃▃▂▄▄▄▄▃▄▄▁▄▄▃▁▄</td></tr><tr><td>mean_reward_alpha_0.1_lambda_0.001</td><td>▁▁▂▃▃▅▅▆▄▆▆▆▆▅▆▄▇▆▅▄▆▅▅▄▅▆▆▅▄▄▅▆▅▇█▆▄▅▄▆</td></tr><tr><td>regret_variance_alpha_0.1_lambda_0.001</td><td>▁▁▁▁▁▁▁▁▁▁▁▇▅▂▅▁█▄▅▁▅▄▂▂▃▄▄▂▁▃▅▁▃▂▂▃▃▂▂▃</td></tr><tr><td>reward_variance_alpha_0.1_lambda_0.001</td><td>▁▁▁▁▁▁▁▁▄▁▂▇▆▁▄▂▇▅▃▅▄▃▄▃▇▁▆▄▃▅▅█▄▅▅▃▂▅▃▂</td></tr></table><br/></div><div class=\"wandb-col\"><h3>Run summary:</h3><br/><table class=\"wandb\"><tr><td>episode</td><td>9999</td></tr><tr><td>final_mean_reward_alpha_0.1_lambda_0.001</td><td>239</td></tr><tr><td>final_regret_variance_alpha_0.1_lambda_0.001</td><td>3498.8</td></tr><tr><td>final_reward_variance_alpha_0.1_lambda_0.001</td><td>3498.8</td></tr><tr><td>final_total_regret_alpha_0.1_lambda_0.001</td><td>261</td></tr><tr><td>mean_regret_alpha_0.1_lambda_0.001</td><td>261</td></tr><tr><td>mean_reward_alpha_0.1_lambda_0.001</td><td>239</td></tr><tr><td>regret_variance_alpha_0.1_lambda_0.001</td><td>3498.8</td></tr><tr><td>reward_variance_alpha_0.1_lambda_0.001</td><td>3498.8</td></tr></table><br/></div></div>"
            ]
          },
          "metadata": {}
        },
        {
          "output_type": "display_data",
          "data": {
            "text/plain": [
              "<IPython.core.display.HTML object>"
            ],
            "text/html": [
              " View run <strong style=\"color:#cdcd00\">vivid-sweep-1</strong> at: <a href='https://wandb.ai/tejaswiniksssn-indian-institute-of-technology-madras/RL%20CartPole%20SARSA/runs/qa83qth3' target=\"_blank\">https://wandb.ai/tejaswiniksssn-indian-institute-of-technology-madras/RL%20CartPole%20SARSA/runs/qa83qth3</a><br> View project at: <a href='https://wandb.ai/tejaswiniksssn-indian-institute-of-technology-madras/RL%20CartPole%20SARSA' target=\"_blank\">https://wandb.ai/tejaswiniksssn-indian-institute-of-technology-madras/RL%20CartPole%20SARSA</a><br>Synced 5 W&B file(s), 0 media file(s), 0 artifact file(s) and 0 other file(s)"
            ]
          },
          "metadata": {}
        },
        {
          "output_type": "display_data",
          "data": {
            "text/plain": [
              "<IPython.core.display.HTML object>"
            ],
            "text/html": [
              "Find logs at: <code>./wandb/run-20250324_053654-qa83qth3/logs</code>"
            ]
          },
          "metadata": {}
        },
        {
          "output_type": "stream",
          "name": "stderr",
          "text": [
            "\u001b[34m\u001b[1mwandb\u001b[0m: Agent Starting Run: q8wa5ftp with config:\n",
            "\u001b[34m\u001b[1mwandb\u001b[0m: \talpha: 0.1\n",
            "\u001b[34m\u001b[1mwandb\u001b[0m: \tlambda_decay: 0.005\n"
          ]
        },
        {
          "output_type": "display_data",
          "data": {
            "text/plain": [
              "<IPython.core.display.HTML object>"
            ],
            "text/html": [
              "Ignoring project 'cpsarsa' when running a sweep."
            ]
          },
          "metadata": {}
        },
        {
          "output_type": "display_data",
          "data": {
            "text/plain": [
              "<IPython.core.display.HTML object>"
            ],
            "text/html": [
              "Tracking run with wandb version 0.19.8"
            ]
          },
          "metadata": {}
        },
        {
          "output_type": "display_data",
          "data": {
            "text/plain": [
              "<IPython.core.display.HTML object>"
            ],
            "text/html": [
              "Run data is saved locally in <code>/content/wandb/run-20250324_054406-q8wa5ftp</code>"
            ]
          },
          "metadata": {}
        },
        {
          "output_type": "display_data",
          "data": {
            "text/plain": [
              "<IPython.core.display.HTML object>"
            ],
            "text/html": [
              "Syncing run <strong><a href='https://wandb.ai/tejaswiniksssn-indian-institute-of-technology-madras/RL%20CartPole%20SARSA/runs/q8wa5ftp' target=\"_blank\">feasible-sweep-2</a></strong> to <a href='https://wandb.ai/tejaswiniksssn-indian-institute-of-technology-madras/RL%20CartPole%20SARSA' target=\"_blank\">Weights & Biases</a> (<a href='https://wandb.me/developer-guide' target=\"_blank\">docs</a>)<br>Sweep page: <a href='https://wandb.ai/tejaswiniksssn-indian-institute-of-technology-madras/RL%20CartPole%20SARSA/sweeps/y7dexche' target=\"_blank\">https://wandb.ai/tejaswiniksssn-indian-institute-of-technology-madras/RL%20CartPole%20SARSA/sweeps/y7dexche</a>"
            ]
          },
          "metadata": {}
        },
        {
          "output_type": "display_data",
          "data": {
            "text/plain": [
              "<IPython.core.display.HTML object>"
            ],
            "text/html": [
              " View project at <a href='https://wandb.ai/tejaswiniksssn-indian-institute-of-technology-madras/RL%20CartPole%20SARSA' target=\"_blank\">https://wandb.ai/tejaswiniksssn-indian-institute-of-technology-madras/RL%20CartPole%20SARSA</a>"
            ]
          },
          "metadata": {}
        },
        {
          "output_type": "display_data",
          "data": {
            "text/plain": [
              "<IPython.core.display.HTML object>"
            ],
            "text/html": [
              " View sweep at <a href='https://wandb.ai/tejaswiniksssn-indian-institute-of-technology-madras/RL%20CartPole%20SARSA/sweeps/y7dexche' target=\"_blank\">https://wandb.ai/tejaswiniksssn-indian-institute-of-technology-madras/RL%20CartPole%20SARSA/sweeps/y7dexche</a>"
            ]
          },
          "metadata": {}
        },
        {
          "output_type": "display_data",
          "data": {
            "text/plain": [
              "<IPython.core.display.HTML object>"
            ],
            "text/html": [
              " View run at <a href='https://wandb.ai/tejaswiniksssn-indian-institute-of-technology-madras/RL%20CartPole%20SARSA/runs/q8wa5ftp' target=\"_blank\">https://wandb.ai/tejaswiniksssn-indian-institute-of-technology-madras/RL%20CartPole%20SARSA/runs/q8wa5ftp</a>"
            ]
          },
          "metadata": {}
        },
        {
          "output_type": "display_data",
          "data": {
            "text/plain": [
              "<IPython.core.display.HTML object>"
            ],
            "text/html": []
          },
          "metadata": {}
        },
        {
          "output_type": "display_data",
          "data": {
            "text/plain": [
              "<IPython.core.display.HTML object>"
            ],
            "text/html": [
              "<br>    <style><br>        .wandb-row {<br>            display: flex;<br>            flex-direction: row;<br>            flex-wrap: wrap;<br>            justify-content: flex-start;<br>            width: 100%;<br>        }<br>        .wandb-col {<br>            display: flex;<br>            flex-direction: column;<br>            flex-basis: 100%;<br>            flex: 1;<br>            padding: 10px;<br>        }<br>    </style><br><div class=\"wandb-row\"><div class=\"wandb-col\"><h3>Run history:</h3><br/><table class=\"wandb\"><tr><td>episode</td><td>▁▁▂▂▂▂▂▂▃▃▃▃▃▃▄▄▄▄▄▄▄▅▅▅▅▆▆▆▆▇▇▇▇▇▇▇▇▇██</td></tr><tr><td>final_mean_reward_alpha_0.1_lambda_0.005</td><td>▁</td></tr><tr><td>final_regret_variance_alpha_0.1_lambda_0.005</td><td>▁</td></tr><tr><td>final_reward_variance_alpha_0.1_lambda_0.005</td><td>▁</td></tr><tr><td>final_total_regret_alpha_0.1_lambda_0.005</td><td>▁</td></tr><tr><td>mean_regret_alpha_0.1_lambda_0.005</td><td>██▅▇▇▆▅▇▇▇▇▇▅▅▆▅▄▅▆▂▆▄▇▂▅▅▄▇▄▅▄▅▁▅▄▅▃▄▅▁</td></tr><tr><td>mean_reward_alpha_0.1_lambda_0.005</td><td>▃▂▃▁▂▁▂▂▂▂▃▃▂▃▃▅▄▃▃▂▃▄▃▆▃▆▅▆▄▃▅▃▅▆▅▃▄▅▃█</td></tr><tr><td>regret_variance_alpha_0.1_lambda_0.005</td><td>▁▁▂▁▂▂▁▁▄▁▂▁▂▂▂▁▂▂▂▂▂▂▂▃▃▁▁▄▂▂▅▃█▁▃▃▂▅▁▃</td></tr><tr><td>reward_variance_alpha_0.1_lambda_0.005</td><td>▁▁▁▁▁▁▁▁▁▁▁▂▂▄▂▂▂▂▂▂▂▂▁▂▂▃▃▂▂▄▃▂▁▂█▃▃▂▂▃</td></tr></table><br/></div><div class=\"wandb-col\"><h3>Run summary:</h3><br/><table class=\"wandb\"><tr><td>episode</td><td>9999</td></tr><tr><td>final_mean_reward_alpha_0.1_lambda_0.005</td><td>159</td></tr><tr><td>final_regret_variance_alpha_0.1_lambda_0.005</td><td>5110</td></tr><tr><td>final_reward_variance_alpha_0.1_lambda_0.005</td><td>5110</td></tr><tr><td>final_total_regret_alpha_0.1_lambda_0.005</td><td>341</td></tr><tr><td>mean_regret_alpha_0.1_lambda_0.005</td><td>341</td></tr><tr><td>mean_reward_alpha_0.1_lambda_0.005</td><td>159</td></tr><tr><td>regret_variance_alpha_0.1_lambda_0.005</td><td>5110</td></tr><tr><td>reward_variance_alpha_0.1_lambda_0.005</td><td>5110</td></tr></table><br/></div></div>"
            ]
          },
          "metadata": {}
        },
        {
          "output_type": "display_data",
          "data": {
            "text/plain": [
              "<IPython.core.display.HTML object>"
            ],
            "text/html": [
              " View run <strong style=\"color:#cdcd00\">feasible-sweep-2</strong> at: <a href='https://wandb.ai/tejaswiniksssn-indian-institute-of-technology-madras/RL%20CartPole%20SARSA/runs/q8wa5ftp' target=\"_blank\">https://wandb.ai/tejaswiniksssn-indian-institute-of-technology-madras/RL%20CartPole%20SARSA/runs/q8wa5ftp</a><br> View project at: <a href='https://wandb.ai/tejaswiniksssn-indian-institute-of-technology-madras/RL%20CartPole%20SARSA' target=\"_blank\">https://wandb.ai/tejaswiniksssn-indian-institute-of-technology-madras/RL%20CartPole%20SARSA</a><br>Synced 5 W&B file(s), 0 media file(s), 0 artifact file(s) and 0 other file(s)"
            ]
          },
          "metadata": {}
        },
        {
          "output_type": "display_data",
          "data": {
            "text/plain": [
              "<IPython.core.display.HTML object>"
            ],
            "text/html": [
              "Find logs at: <code>./wandb/run-20250324_054406-q8wa5ftp/logs</code>"
            ]
          },
          "metadata": {}
        },
        {
          "output_type": "stream",
          "name": "stderr",
          "text": [
            "\u001b[34m\u001b[1mwandb\u001b[0m: Agent Starting Run: 4dz09moq with config:\n",
            "\u001b[34m\u001b[1mwandb\u001b[0m: \talpha: 0.1\n",
            "\u001b[34m\u001b[1mwandb\u001b[0m: \tlambda_decay: 0.0005\n"
          ]
        },
        {
          "output_type": "display_data",
          "data": {
            "text/plain": [
              "<IPython.core.display.HTML object>"
            ],
            "text/html": [
              "Ignoring project 'cpsarsa' when running a sweep."
            ]
          },
          "metadata": {}
        },
        {
          "output_type": "display_data",
          "data": {
            "text/plain": [
              "<IPython.core.display.HTML object>"
            ],
            "text/html": [
              "Tracking run with wandb version 0.19.8"
            ]
          },
          "metadata": {}
        },
        {
          "output_type": "display_data",
          "data": {
            "text/plain": [
              "<IPython.core.display.HTML object>"
            ],
            "text/html": [
              "Run data is saved locally in <code>/content/wandb/run-20250324_054722-4dz09moq</code>"
            ]
          },
          "metadata": {}
        },
        {
          "output_type": "display_data",
          "data": {
            "text/plain": [
              "<IPython.core.display.HTML object>"
            ],
            "text/html": [
              "Syncing run <strong><a href='https://wandb.ai/tejaswiniksssn-indian-institute-of-technology-madras/RL%20CartPole%20SARSA/runs/4dz09moq' target=\"_blank\">dark-sweep-3</a></strong> to <a href='https://wandb.ai/tejaswiniksssn-indian-institute-of-technology-madras/RL%20CartPole%20SARSA' target=\"_blank\">Weights & Biases</a> (<a href='https://wandb.me/developer-guide' target=\"_blank\">docs</a>)<br>Sweep page: <a href='https://wandb.ai/tejaswiniksssn-indian-institute-of-technology-madras/RL%20CartPole%20SARSA/sweeps/y7dexche' target=\"_blank\">https://wandb.ai/tejaswiniksssn-indian-institute-of-technology-madras/RL%20CartPole%20SARSA/sweeps/y7dexche</a>"
            ]
          },
          "metadata": {}
        },
        {
          "output_type": "display_data",
          "data": {
            "text/plain": [
              "<IPython.core.display.HTML object>"
            ],
            "text/html": [
              " View project at <a href='https://wandb.ai/tejaswiniksssn-indian-institute-of-technology-madras/RL%20CartPole%20SARSA' target=\"_blank\">https://wandb.ai/tejaswiniksssn-indian-institute-of-technology-madras/RL%20CartPole%20SARSA</a>"
            ]
          },
          "metadata": {}
        },
        {
          "output_type": "display_data",
          "data": {
            "text/plain": [
              "<IPython.core.display.HTML object>"
            ],
            "text/html": [
              " View sweep at <a href='https://wandb.ai/tejaswiniksssn-indian-institute-of-technology-madras/RL%20CartPole%20SARSA/sweeps/y7dexche' target=\"_blank\">https://wandb.ai/tejaswiniksssn-indian-institute-of-technology-madras/RL%20CartPole%20SARSA/sweeps/y7dexche</a>"
            ]
          },
          "metadata": {}
        },
        {
          "output_type": "display_data",
          "data": {
            "text/plain": [
              "<IPython.core.display.HTML object>"
            ],
            "text/html": [
              " View run at <a href='https://wandb.ai/tejaswiniksssn-indian-institute-of-technology-madras/RL%20CartPole%20SARSA/runs/4dz09moq' target=\"_blank\">https://wandb.ai/tejaswiniksssn-indian-institute-of-technology-madras/RL%20CartPole%20SARSA/runs/4dz09moq</a>"
            ]
          },
          "metadata": {}
        },
        {
          "output_type": "display_data",
          "data": {
            "text/plain": [
              "<IPython.core.display.HTML object>"
            ],
            "text/html": []
          },
          "metadata": {}
        },
        {
          "output_type": "display_data",
          "data": {
            "text/plain": [
              "<IPython.core.display.HTML object>"
            ],
            "text/html": [
              "<br>    <style><br>        .wandb-row {<br>            display: flex;<br>            flex-direction: row;<br>            flex-wrap: wrap;<br>            justify-content: flex-start;<br>            width: 100%;<br>        }<br>        .wandb-col {<br>            display: flex;<br>            flex-direction: column;<br>            flex-basis: 100%;<br>            flex: 1;<br>            padding: 10px;<br>        }<br>    </style><br><div class=\"wandb-row\"><div class=\"wandb-col\"><h3>Run history:</h3><br/><table class=\"wandb\"><tr><td>episode</td><td>▁▁▁▁▂▂▂▂▂▂▃▃▃▄▄▄▄▄▄▄▄▄▅▅▅▆▆▆▆▆▆▇▇▇▇▇▇███</td></tr><tr><td>final_mean_reward_alpha_0.1_lambda_0.0005</td><td>▁</td></tr><tr><td>final_regret_variance_alpha_0.1_lambda_0.0005</td><td>▁</td></tr><tr><td>final_reward_variance_alpha_0.1_lambda_0.0005</td><td>▁</td></tr><tr><td>final_total_regret_alpha_0.1_lambda_0.0005</td><td>▁</td></tr><tr><td>mean_regret_alpha_0.1_lambda_0.0005</td><td>█▇████▇▆▇▅▇▆▅▅▃▄▄▅▅▃▅▂▃▅▃▅▄▄▃▃▄▅▄▅▃▁▃▃▄▃</td></tr><tr><td>mean_reward_alpha_0.1_lambda_0.0005</td><td>▁▁▁▁▁▁▂▁▁▃▄▃▅▃▅▆▆▇▅▆▅█▃▆▇▆▅▅▆▅▅▆▅▄▆█▇▆▆▆</td></tr><tr><td>regret_variance_alpha_0.1_lambda_0.0005</td><td>▁▁▁▁▁▂▂▂▇▁▅▂▅▆▆▂██▃▆▄▄▄▄▄▇▅▁▅▅▄▁▁▄▂▃▃▃▅▃</td></tr><tr><td>reward_variance_alpha_0.1_lambda_0.0005</td><td>▁▁▁▁▁▁▁▁▂▂▂▆▁▃▅▆▆▄▄▂▃▂█▇▃▅▃▇▅▆▃▃▆▄▇▁▃▃▅▃</td></tr></table><br/></div><div class=\"wandb-col\"><h3>Run summary:</h3><br/><table class=\"wandb\"><tr><td>episode</td><td>9999</td></tr><tr><td>final_mean_reward_alpha_0.1_lambda_0.0005</td><td>295.6</td></tr><tr><td>final_regret_variance_alpha_0.1_lambda_0.0005</td><td>12797.84</td></tr><tr><td>final_reward_variance_alpha_0.1_lambda_0.0005</td><td>12797.84</td></tr><tr><td>final_total_regret_alpha_0.1_lambda_0.0005</td><td>204.4</td></tr><tr><td>mean_regret_alpha_0.1_lambda_0.0005</td><td>204.4</td></tr><tr><td>mean_reward_alpha_0.1_lambda_0.0005</td><td>295.6</td></tr><tr><td>regret_variance_alpha_0.1_lambda_0.0005</td><td>12797.84</td></tr><tr><td>reward_variance_alpha_0.1_lambda_0.0005</td><td>12797.84</td></tr></table><br/></div></div>"
            ]
          },
          "metadata": {}
        },
        {
          "output_type": "display_data",
          "data": {
            "text/plain": [
              "<IPython.core.display.HTML object>"
            ],
            "text/html": [
              " View run <strong style=\"color:#cdcd00\">dark-sweep-3</strong> at: <a href='https://wandb.ai/tejaswiniksssn-indian-institute-of-technology-madras/RL%20CartPole%20SARSA/runs/4dz09moq' target=\"_blank\">https://wandb.ai/tejaswiniksssn-indian-institute-of-technology-madras/RL%20CartPole%20SARSA/runs/4dz09moq</a><br> View project at: <a href='https://wandb.ai/tejaswiniksssn-indian-institute-of-technology-madras/RL%20CartPole%20SARSA' target=\"_blank\">https://wandb.ai/tejaswiniksssn-indian-institute-of-technology-madras/RL%20CartPole%20SARSA</a><br>Synced 5 W&B file(s), 0 media file(s), 0 artifact file(s) and 0 other file(s)"
            ]
          },
          "metadata": {}
        },
        {
          "output_type": "display_data",
          "data": {
            "text/plain": [
              "<IPython.core.display.HTML object>"
            ],
            "text/html": [
              "Find logs at: <code>./wandb/run-20250324_054722-4dz09moq/logs</code>"
            ]
          },
          "metadata": {}
        },
        {
          "output_type": "stream",
          "name": "stderr",
          "text": [
            "\u001b[34m\u001b[1mwandb\u001b[0m: Agent Starting Run: fbenfvu4 with config:\n",
            "\u001b[34m\u001b[1mwandb\u001b[0m: \talpha: 0.05\n",
            "\u001b[34m\u001b[1mwandb\u001b[0m: \tlambda_decay: 0.001\n"
          ]
        },
        {
          "output_type": "display_data",
          "data": {
            "text/plain": [
              "<IPython.core.display.HTML object>"
            ],
            "text/html": [
              "Ignoring project 'cpsarsa' when running a sweep."
            ]
          },
          "metadata": {}
        },
        {
          "output_type": "display_data",
          "data": {
            "text/plain": [
              "<IPython.core.display.HTML object>"
            ],
            "text/html": [
              "Tracking run with wandb version 0.19.8"
            ]
          },
          "metadata": {}
        },
        {
          "output_type": "display_data",
          "data": {
            "text/plain": [
              "<IPython.core.display.HTML object>"
            ],
            "text/html": [
              "Run data is saved locally in <code>/content/wandb/run-20250324_055430-fbenfvu4</code>"
            ]
          },
          "metadata": {}
        },
        {
          "output_type": "display_data",
          "data": {
            "text/plain": [
              "<IPython.core.display.HTML object>"
            ],
            "text/html": [
              "Syncing run <strong><a href='https://wandb.ai/tejaswiniksssn-indian-institute-of-technology-madras/RL%20CartPole%20SARSA/runs/fbenfvu4' target=\"_blank\">eternal-sweep-4</a></strong> to <a href='https://wandb.ai/tejaswiniksssn-indian-institute-of-technology-madras/RL%20CartPole%20SARSA' target=\"_blank\">Weights & Biases</a> (<a href='https://wandb.me/developer-guide' target=\"_blank\">docs</a>)<br>Sweep page: <a href='https://wandb.ai/tejaswiniksssn-indian-institute-of-technology-madras/RL%20CartPole%20SARSA/sweeps/y7dexche' target=\"_blank\">https://wandb.ai/tejaswiniksssn-indian-institute-of-technology-madras/RL%20CartPole%20SARSA/sweeps/y7dexche</a>"
            ]
          },
          "metadata": {}
        },
        {
          "output_type": "display_data",
          "data": {
            "text/plain": [
              "<IPython.core.display.HTML object>"
            ],
            "text/html": [
              " View project at <a href='https://wandb.ai/tejaswiniksssn-indian-institute-of-technology-madras/RL%20CartPole%20SARSA' target=\"_blank\">https://wandb.ai/tejaswiniksssn-indian-institute-of-technology-madras/RL%20CartPole%20SARSA</a>"
            ]
          },
          "metadata": {}
        },
        {
          "output_type": "display_data",
          "data": {
            "text/plain": [
              "<IPython.core.display.HTML object>"
            ],
            "text/html": [
              " View sweep at <a href='https://wandb.ai/tejaswiniksssn-indian-institute-of-technology-madras/RL%20CartPole%20SARSA/sweeps/y7dexche' target=\"_blank\">https://wandb.ai/tejaswiniksssn-indian-institute-of-technology-madras/RL%20CartPole%20SARSA/sweeps/y7dexche</a>"
            ]
          },
          "metadata": {}
        },
        {
          "output_type": "display_data",
          "data": {
            "text/plain": [
              "<IPython.core.display.HTML object>"
            ],
            "text/html": [
              " View run at <a href='https://wandb.ai/tejaswiniksssn-indian-institute-of-technology-madras/RL%20CartPole%20SARSA/runs/fbenfvu4' target=\"_blank\">https://wandb.ai/tejaswiniksssn-indian-institute-of-technology-madras/RL%20CartPole%20SARSA/runs/fbenfvu4</a>"
            ]
          },
          "metadata": {}
        },
        {
          "output_type": "display_data",
          "data": {
            "text/plain": [
              "<IPython.core.display.HTML object>"
            ],
            "text/html": []
          },
          "metadata": {}
        },
        {
          "output_type": "display_data",
          "data": {
            "text/plain": [
              "<IPython.core.display.HTML object>"
            ],
            "text/html": [
              "<br>    <style><br>        .wandb-row {<br>            display: flex;<br>            flex-direction: row;<br>            flex-wrap: wrap;<br>            justify-content: flex-start;<br>            width: 100%;<br>        }<br>        .wandb-col {<br>            display: flex;<br>            flex-direction: column;<br>            flex-basis: 100%;<br>            flex: 1;<br>            padding: 10px;<br>        }<br>    </style><br><div class=\"wandb-row\"><div class=\"wandb-col\"><h3>Run history:</h3><br/><table class=\"wandb\"><tr><td>episode</td><td>▁▁▁▂▂▂▂▂▂▃▃▃▃▃▃▄▄▄▄▄▄▄▅▅▅▅▆▆▆▆▇▇▇▇▇▇▇███</td></tr><tr><td>final_mean_reward_alpha_0.05_lambda_0.001</td><td>▁</td></tr><tr><td>final_regret_variance_alpha_0.05_lambda_0.001</td><td>▁</td></tr><tr><td>final_reward_variance_alpha_0.05_lambda_0.001</td><td>▁</td></tr><tr><td>final_total_regret_alpha_0.05_lambda_0.001</td><td>▁</td></tr><tr><td>mean_regret_alpha_0.05_lambda_0.001</td><td>██▇██▇▇▆▇▇▅▆▄▄▄▅▄▄▄▅▃▂▄▅▃▃▅▃▅▄▂▃▃▃▂▂▃▁▄▆</td></tr><tr><td>mean_reward_alpha_0.05_lambda_0.001</td><td>▁▁▁▁▂▃▂▃▄▅▄▄▆▆▅▅▄▅▄▆▇▇▇▅▃▆▅▄▆▇▄▆▅▆▆▆███▆</td></tr><tr><td>regret_variance_alpha_0.05_lambda_0.001</td><td>▁▁▁▁▂▁▂▂▁▂▄▂▃▂▂▃▃▁▂▂▁▂▃▅▅▂▂▂▂▆▅▂█▁▂▃▃▂▂▄</td></tr><tr><td>reward_variance_alpha_0.05_lambda_0.001</td><td>▁▁▁▁▁▁▁▁▁▂▂▂▂▂▂▂▄▁▁▂▁▂▅▃▃▂▂▂▂█▃▁▂▂▆▆▁▂▂▅</td></tr></table><br/></div><div class=\"wandb-col\"><h3>Run summary:</h3><br/><table class=\"wandb\"><tr><td>episode</td><td>9999</td></tr><tr><td>final_mean_reward_alpha_0.05_lambda_0.001</td><td>219.8</td></tr><tr><td>final_regret_variance_alpha_0.05_lambda_0.001</td><td>21535.36</td></tr><tr><td>final_reward_variance_alpha_0.05_lambda_0.001</td><td>21535.36</td></tr><tr><td>final_total_regret_alpha_0.05_lambda_0.001</td><td>280.2</td></tr><tr><td>mean_regret_alpha_0.05_lambda_0.001</td><td>280.2</td></tr><tr><td>mean_reward_alpha_0.05_lambda_0.001</td><td>219.8</td></tr><tr><td>regret_variance_alpha_0.05_lambda_0.001</td><td>21535.36</td></tr><tr><td>reward_variance_alpha_0.05_lambda_0.001</td><td>21535.36</td></tr></table><br/></div></div>"
            ]
          },
          "metadata": {}
        },
        {
          "output_type": "display_data",
          "data": {
            "text/plain": [
              "<IPython.core.display.HTML object>"
            ],
            "text/html": [
              " View run <strong style=\"color:#cdcd00\">eternal-sweep-4</strong> at: <a href='https://wandb.ai/tejaswiniksssn-indian-institute-of-technology-madras/RL%20CartPole%20SARSA/runs/fbenfvu4' target=\"_blank\">https://wandb.ai/tejaswiniksssn-indian-institute-of-technology-madras/RL%20CartPole%20SARSA/runs/fbenfvu4</a><br> View project at: <a href='https://wandb.ai/tejaswiniksssn-indian-institute-of-technology-madras/RL%20CartPole%20SARSA' target=\"_blank\">https://wandb.ai/tejaswiniksssn-indian-institute-of-technology-madras/RL%20CartPole%20SARSA</a><br>Synced 5 W&B file(s), 0 media file(s), 0 artifact file(s) and 0 other file(s)"
            ]
          },
          "metadata": {}
        },
        {
          "output_type": "display_data",
          "data": {
            "text/plain": [
              "<IPython.core.display.HTML object>"
            ],
            "text/html": [
              "Find logs at: <code>./wandb/run-20250324_055430-fbenfvu4/logs</code>"
            ]
          },
          "metadata": {}
        },
        {
          "output_type": "stream",
          "name": "stderr",
          "text": [
            "\u001b[34m\u001b[1mwandb\u001b[0m: Agent Starting Run: xxzi67wk with config:\n",
            "\u001b[34m\u001b[1mwandb\u001b[0m: \talpha: 0.05\n",
            "\u001b[34m\u001b[1mwandb\u001b[0m: \tlambda_decay: 0.005\n"
          ]
        },
        {
          "output_type": "display_data",
          "data": {
            "text/plain": [
              "<IPython.core.display.HTML object>"
            ],
            "text/html": [
              "Ignoring project 'cpsarsa' when running a sweep."
            ]
          },
          "metadata": {}
        },
        {
          "output_type": "display_data",
          "data": {
            "text/plain": [
              "<IPython.core.display.HTML object>"
            ],
            "text/html": [
              "Tracking run with wandb version 0.19.8"
            ]
          },
          "metadata": {}
        },
        {
          "output_type": "display_data",
          "data": {
            "text/plain": [
              "<IPython.core.display.HTML object>"
            ],
            "text/html": [
              "Run data is saved locally in <code>/content/wandb/run-20250324_055934-xxzi67wk</code>"
            ]
          },
          "metadata": {}
        },
        {
          "output_type": "display_data",
          "data": {
            "text/plain": [
              "<IPython.core.display.HTML object>"
            ],
            "text/html": [
              "Syncing run <strong><a href='https://wandb.ai/tejaswiniksssn-indian-institute-of-technology-madras/RL%20CartPole%20SARSA/runs/xxzi67wk' target=\"_blank\">twilight-sweep-5</a></strong> to <a href='https://wandb.ai/tejaswiniksssn-indian-institute-of-technology-madras/RL%20CartPole%20SARSA' target=\"_blank\">Weights & Biases</a> (<a href='https://wandb.me/developer-guide' target=\"_blank\">docs</a>)<br>Sweep page: <a href='https://wandb.ai/tejaswiniksssn-indian-institute-of-technology-madras/RL%20CartPole%20SARSA/sweeps/y7dexche' target=\"_blank\">https://wandb.ai/tejaswiniksssn-indian-institute-of-technology-madras/RL%20CartPole%20SARSA/sweeps/y7dexche</a>"
            ]
          },
          "metadata": {}
        },
        {
          "output_type": "display_data",
          "data": {
            "text/plain": [
              "<IPython.core.display.HTML object>"
            ],
            "text/html": [
              " View project at <a href='https://wandb.ai/tejaswiniksssn-indian-institute-of-technology-madras/RL%20CartPole%20SARSA' target=\"_blank\">https://wandb.ai/tejaswiniksssn-indian-institute-of-technology-madras/RL%20CartPole%20SARSA</a>"
            ]
          },
          "metadata": {}
        },
        {
          "output_type": "display_data",
          "data": {
            "text/plain": [
              "<IPython.core.display.HTML object>"
            ],
            "text/html": [
              " View sweep at <a href='https://wandb.ai/tejaswiniksssn-indian-institute-of-technology-madras/RL%20CartPole%20SARSA/sweeps/y7dexche' target=\"_blank\">https://wandb.ai/tejaswiniksssn-indian-institute-of-technology-madras/RL%20CartPole%20SARSA/sweeps/y7dexche</a>"
            ]
          },
          "metadata": {}
        },
        {
          "output_type": "display_data",
          "data": {
            "text/plain": [
              "<IPython.core.display.HTML object>"
            ],
            "text/html": [
              " View run at <a href='https://wandb.ai/tejaswiniksssn-indian-institute-of-technology-madras/RL%20CartPole%20SARSA/runs/xxzi67wk' target=\"_blank\">https://wandb.ai/tejaswiniksssn-indian-institute-of-technology-madras/RL%20CartPole%20SARSA/runs/xxzi67wk</a>"
            ]
          },
          "metadata": {}
        },
        {
          "output_type": "display_data",
          "data": {
            "text/plain": [
              "<IPython.core.display.HTML object>"
            ],
            "text/html": []
          },
          "metadata": {}
        },
        {
          "output_type": "display_data",
          "data": {
            "text/plain": [
              "<IPython.core.display.HTML object>"
            ],
            "text/html": [
              "<br>    <style><br>        .wandb-row {<br>            display: flex;<br>            flex-direction: row;<br>            flex-wrap: wrap;<br>            justify-content: flex-start;<br>            width: 100%;<br>        }<br>        .wandb-col {<br>            display: flex;<br>            flex-direction: column;<br>            flex-basis: 100%;<br>            flex: 1;<br>            padding: 10px;<br>        }<br>    </style><br><div class=\"wandb-row\"><div class=\"wandb-col\"><h3>Run history:</h3><br/><table class=\"wandb\"><tr><td>episode</td><td>▁▁▁▁▁▁▂▂▂▂▂▂▃▃▃▃▃▄▄▄▅▅▅▅▅▆▆▆▆▆▇▇▇▇▇█████</td></tr><tr><td>final_mean_reward_alpha_0.05_lambda_0.005</td><td>▁</td></tr><tr><td>final_regret_variance_alpha_0.05_lambda_0.005</td><td>▁</td></tr><tr><td>final_reward_variance_alpha_0.05_lambda_0.005</td><td>▁</td></tr><tr><td>final_total_regret_alpha_0.05_lambda_0.005</td><td>▁</td></tr><tr><td>mean_regret_alpha_0.05_lambda_0.005</td><td>▇▂▇▆█▆█▅▆▄▃▇▆▁▇▆▇█▂▇▇▃▅▃▄▃▄▃▅▇▄▃▇▂▅▃▄▆▄▆</td></tr><tr><td>mean_reward_alpha_0.05_lambda_0.005</td><td>▂▁▂▂▂▂█▃▄▂▂▃▁▃▃▃▂▆▂▃▄▄▃█▂▂▄▄█▅▃▄▅▅▇▄▆▆▆▄</td></tr><tr><td>regret_variance_alpha_0.05_lambda_0.005</td><td>▁▁▁▁▁▁▁▁▁▁▁▃▁▁▂▁▁▁▁▁▁▁▁█▄▁▁▁▁▁▁▁▁▂▂▂▁▂▁▂</td></tr><tr><td>reward_variance_alpha_0.05_lambda_0.005</td><td>▁▁▁▁▁██▁▁▁▁▁▁▁▁▃▁▁▁▂▁▁▂▁▁▁▁▁▂▁▂▁▁▁▂▁▂▂▂▃</td></tr></table><br/></div><div class=\"wandb-col\"><h3>Run summary:</h3><br/><table class=\"wandb\"><tr><td>episode</td><td>9999</td></tr><tr><td>final_mean_reward_alpha_0.05_lambda_0.005</td><td>84.8</td></tr><tr><td>final_regret_variance_alpha_0.05_lambda_0.005</td><td>3531.76</td></tr><tr><td>final_reward_variance_alpha_0.05_lambda_0.005</td><td>3531.76</td></tr><tr><td>final_total_regret_alpha_0.05_lambda_0.005</td><td>415.2</td></tr><tr><td>mean_regret_alpha_0.05_lambda_0.005</td><td>415.2</td></tr><tr><td>mean_reward_alpha_0.05_lambda_0.005</td><td>84.8</td></tr><tr><td>regret_variance_alpha_0.05_lambda_0.005</td><td>3531.76</td></tr><tr><td>reward_variance_alpha_0.05_lambda_0.005</td><td>3531.76</td></tr></table><br/></div></div>"
            ]
          },
          "metadata": {}
        },
        {
          "output_type": "display_data",
          "data": {
            "text/plain": [
              "<IPython.core.display.HTML object>"
            ],
            "text/html": [
              " View run <strong style=\"color:#cdcd00\">twilight-sweep-5</strong> at: <a href='https://wandb.ai/tejaswiniksssn-indian-institute-of-technology-madras/RL%20CartPole%20SARSA/runs/xxzi67wk' target=\"_blank\">https://wandb.ai/tejaswiniksssn-indian-institute-of-technology-madras/RL%20CartPole%20SARSA/runs/xxzi67wk</a><br> View project at: <a href='https://wandb.ai/tejaswiniksssn-indian-institute-of-technology-madras/RL%20CartPole%20SARSA' target=\"_blank\">https://wandb.ai/tejaswiniksssn-indian-institute-of-technology-madras/RL%20CartPole%20SARSA</a><br>Synced 5 W&B file(s), 0 media file(s), 0 artifact file(s) and 0 other file(s)"
            ]
          },
          "metadata": {}
        },
        {
          "output_type": "display_data",
          "data": {
            "text/plain": [
              "<IPython.core.display.HTML object>"
            ],
            "text/html": [
              "Find logs at: <code>./wandb/run-20250324_055934-xxzi67wk/logs</code>"
            ]
          },
          "metadata": {}
        },
        {
          "output_type": "stream",
          "name": "stderr",
          "text": [
            "\u001b[34m\u001b[1mwandb\u001b[0m: Agent Starting Run: 5q5405yh with config:\n",
            "\u001b[34m\u001b[1mwandb\u001b[0m: \talpha: 0.05\n",
            "\u001b[34m\u001b[1mwandb\u001b[0m: \tlambda_decay: 0.0005\n"
          ]
        },
        {
          "output_type": "display_data",
          "data": {
            "text/plain": [
              "<IPython.core.display.HTML object>"
            ],
            "text/html": [
              "Ignoring project 'cpsarsa' when running a sweep."
            ]
          },
          "metadata": {}
        },
        {
          "output_type": "display_data",
          "data": {
            "text/plain": [
              "<IPython.core.display.HTML object>"
            ],
            "text/html": [
              "Tracking run with wandb version 0.19.8"
            ]
          },
          "metadata": {}
        },
        {
          "output_type": "display_data",
          "data": {
            "text/plain": [
              "<IPython.core.display.HTML object>"
            ],
            "text/html": [
              "Run data is saved locally in <code>/content/wandb/run-20250324_060137-5q5405yh</code>"
            ]
          },
          "metadata": {}
        },
        {
          "output_type": "display_data",
          "data": {
            "text/plain": [
              "<IPython.core.display.HTML object>"
            ],
            "text/html": [
              "Syncing run <strong><a href='https://wandb.ai/tejaswiniksssn-indian-institute-of-technology-madras/RL%20CartPole%20SARSA/runs/5q5405yh' target=\"_blank\">curious-sweep-6</a></strong> to <a href='https://wandb.ai/tejaswiniksssn-indian-institute-of-technology-madras/RL%20CartPole%20SARSA' target=\"_blank\">Weights & Biases</a> (<a href='https://wandb.me/developer-guide' target=\"_blank\">docs</a>)<br>Sweep page: <a href='https://wandb.ai/tejaswiniksssn-indian-institute-of-technology-madras/RL%20CartPole%20SARSA/sweeps/y7dexche' target=\"_blank\">https://wandb.ai/tejaswiniksssn-indian-institute-of-technology-madras/RL%20CartPole%20SARSA/sweeps/y7dexche</a>"
            ]
          },
          "metadata": {}
        },
        {
          "output_type": "display_data",
          "data": {
            "text/plain": [
              "<IPython.core.display.HTML object>"
            ],
            "text/html": [
              " View project at <a href='https://wandb.ai/tejaswiniksssn-indian-institute-of-technology-madras/RL%20CartPole%20SARSA' target=\"_blank\">https://wandb.ai/tejaswiniksssn-indian-institute-of-technology-madras/RL%20CartPole%20SARSA</a>"
            ]
          },
          "metadata": {}
        },
        {
          "output_type": "display_data",
          "data": {
            "text/plain": [
              "<IPython.core.display.HTML object>"
            ],
            "text/html": [
              " View sweep at <a href='https://wandb.ai/tejaswiniksssn-indian-institute-of-technology-madras/RL%20CartPole%20SARSA/sweeps/y7dexche' target=\"_blank\">https://wandb.ai/tejaswiniksssn-indian-institute-of-technology-madras/RL%20CartPole%20SARSA/sweeps/y7dexche</a>"
            ]
          },
          "metadata": {}
        },
        {
          "output_type": "display_data",
          "data": {
            "text/plain": [
              "<IPython.core.display.HTML object>"
            ],
            "text/html": [
              " View run at <a href='https://wandb.ai/tejaswiniksssn-indian-institute-of-technology-madras/RL%20CartPole%20SARSA/runs/5q5405yh' target=\"_blank\">https://wandb.ai/tejaswiniksssn-indian-institute-of-technology-madras/RL%20CartPole%20SARSA/runs/5q5405yh</a>"
            ]
          },
          "metadata": {}
        },
        {
          "output_type": "display_data",
          "data": {
            "text/plain": [
              "<IPython.core.display.HTML object>"
            ],
            "text/html": []
          },
          "metadata": {}
        },
        {
          "output_type": "display_data",
          "data": {
            "text/plain": [
              "<IPython.core.display.HTML object>"
            ],
            "text/html": [
              "<br>    <style><br>        .wandb-row {<br>            display: flex;<br>            flex-direction: row;<br>            flex-wrap: wrap;<br>            justify-content: flex-start;<br>            width: 100%;<br>        }<br>        .wandb-col {<br>            display: flex;<br>            flex-direction: column;<br>            flex-basis: 100%;<br>            flex: 1;<br>            padding: 10px;<br>        }<br>    </style><br><div class=\"wandb-row\"><div class=\"wandb-col\"><h3>Run history:</h3><br/><table class=\"wandb\"><tr><td>episode</td><td>▁▁▁▂▂▂▂▂▃▃▃▄▄▄▄▄▄▄▅▅▅▅▅▅▅▅▆▆▆▆▆▆▆▆▇▇▇▇██</td></tr><tr><td>final_mean_reward_alpha_0.05_lambda_0.0005</td><td>▁</td></tr><tr><td>final_regret_variance_alpha_0.05_lambda_0.0005</td><td>▁</td></tr><tr><td>final_reward_variance_alpha_0.05_lambda_0.0005</td><td>▁</td></tr><tr><td>final_total_regret_alpha_0.05_lambda_0.0005</td><td>▁</td></tr><tr><td>mean_regret_alpha_0.05_lambda_0.0005</td><td>█▇██████▇██▇▆▄▅▅▅▅▃▁▂▂▃▄▃▄▃▄▃▃▅▃▂▁▂▄▂▃▃▁</td></tr><tr><td>mean_reward_alpha_0.05_lambda_0.0005</td><td>▁▁▁▁▁▁▁▁▂▂▁▂▃▄▄▃▄█▄▇▆▆▄▆▇██▇▆▅▄▄▇▆▆██▇▇▆</td></tr><tr><td>regret_variance_alpha_0.05_lambda_0.0005</td><td>▁▁▁▁▁▁▁▁▁▁▁▁▂▂▁▂▂▂▁▁▃▁▆▇▇▂▃▃█▅▂▄▂▂▂▅▂▆▂▄</td></tr><tr><td>reward_variance_alpha_0.05_lambda_0.0005</td><td>▁▁▁▁▁▁▁▁▁▁▂▁▅▅▂▂▂▅▆▂▃▃▃▁▁▄▅▅▂▃▅▁▃▃▁▅█▇▂▅</td></tr></table><br/></div><div class=\"wandb-col\"><h3>Run summary:</h3><br/><table class=\"wandb\"><tr><td>episode</td><td>9999</td></tr><tr><td>final_mean_reward_alpha_0.05_lambda_0.0005</td><td>235</td></tr><tr><td>final_regret_variance_alpha_0.05_lambda_0.0005</td><td>18515.2</td></tr><tr><td>final_reward_variance_alpha_0.05_lambda_0.0005</td><td>18515.2</td></tr><tr><td>final_total_regret_alpha_0.05_lambda_0.0005</td><td>265</td></tr><tr><td>mean_regret_alpha_0.05_lambda_0.0005</td><td>265</td></tr><tr><td>mean_reward_alpha_0.05_lambda_0.0005</td><td>235</td></tr><tr><td>regret_variance_alpha_0.05_lambda_0.0005</td><td>18515.2</td></tr><tr><td>reward_variance_alpha_0.05_lambda_0.0005</td><td>18515.2</td></tr></table><br/></div></div>"
            ]
          },
          "metadata": {}
        },
        {
          "output_type": "display_data",
          "data": {
            "text/plain": [
              "<IPython.core.display.HTML object>"
            ],
            "text/html": [
              " View run <strong style=\"color:#cdcd00\">curious-sweep-6</strong> at: <a href='https://wandb.ai/tejaswiniksssn-indian-institute-of-technology-madras/RL%20CartPole%20SARSA/runs/5q5405yh' target=\"_blank\">https://wandb.ai/tejaswiniksssn-indian-institute-of-technology-madras/RL%20CartPole%20SARSA/runs/5q5405yh</a><br> View project at: <a href='https://wandb.ai/tejaswiniksssn-indian-institute-of-technology-madras/RL%20CartPole%20SARSA' target=\"_blank\">https://wandb.ai/tejaswiniksssn-indian-institute-of-technology-madras/RL%20CartPole%20SARSA</a><br>Synced 5 W&B file(s), 0 media file(s), 0 artifact file(s) and 0 other file(s)"
            ]
          },
          "metadata": {}
        },
        {
          "output_type": "display_data",
          "data": {
            "text/plain": [
              "<IPython.core.display.HTML object>"
            ],
            "text/html": [
              "Find logs at: <code>./wandb/run-20250324_060137-5q5405yh/logs</code>"
            ]
          },
          "metadata": {}
        },
        {
          "output_type": "stream",
          "name": "stderr",
          "text": [
            "\u001b[34m\u001b[1mwandb\u001b[0m: Agent Starting Run: a0yebqvz with config:\n",
            "\u001b[34m\u001b[1mwandb\u001b[0m: \talpha: 0.01\n",
            "\u001b[34m\u001b[1mwandb\u001b[0m: \tlambda_decay: 0.001\n"
          ]
        },
        {
          "output_type": "display_data",
          "data": {
            "text/plain": [
              "<IPython.core.display.HTML object>"
            ],
            "text/html": [
              "Ignoring project 'cpsarsa' when running a sweep."
            ]
          },
          "metadata": {}
        },
        {
          "output_type": "display_data",
          "data": {
            "text/plain": [
              "<IPython.core.display.HTML object>"
            ],
            "text/html": [
              "Tracking run with wandb version 0.19.8"
            ]
          },
          "metadata": {}
        },
        {
          "output_type": "display_data",
          "data": {
            "text/plain": [
              "<IPython.core.display.HTML object>"
            ],
            "text/html": [
              "Run data is saved locally in <code>/content/wandb/run-20250324_060711-a0yebqvz</code>"
            ]
          },
          "metadata": {}
        },
        {
          "output_type": "display_data",
          "data": {
            "text/plain": [
              "<IPython.core.display.HTML object>"
            ],
            "text/html": [
              "Syncing run <strong><a href='https://wandb.ai/tejaswiniksssn-indian-institute-of-technology-madras/RL%20CartPole%20SARSA/runs/a0yebqvz' target=\"_blank\">dulcet-sweep-7</a></strong> to <a href='https://wandb.ai/tejaswiniksssn-indian-institute-of-technology-madras/RL%20CartPole%20SARSA' target=\"_blank\">Weights & Biases</a> (<a href='https://wandb.me/developer-guide' target=\"_blank\">docs</a>)<br>Sweep page: <a href='https://wandb.ai/tejaswiniksssn-indian-institute-of-technology-madras/RL%20CartPole%20SARSA/sweeps/y7dexche' target=\"_blank\">https://wandb.ai/tejaswiniksssn-indian-institute-of-technology-madras/RL%20CartPole%20SARSA/sweeps/y7dexche</a>"
            ]
          },
          "metadata": {}
        },
        {
          "output_type": "display_data",
          "data": {
            "text/plain": [
              "<IPython.core.display.HTML object>"
            ],
            "text/html": [
              " View project at <a href='https://wandb.ai/tejaswiniksssn-indian-institute-of-technology-madras/RL%20CartPole%20SARSA' target=\"_blank\">https://wandb.ai/tejaswiniksssn-indian-institute-of-technology-madras/RL%20CartPole%20SARSA</a>"
            ]
          },
          "metadata": {}
        },
        {
          "output_type": "display_data",
          "data": {
            "text/plain": [
              "<IPython.core.display.HTML object>"
            ],
            "text/html": [
              " View sweep at <a href='https://wandb.ai/tejaswiniksssn-indian-institute-of-technology-madras/RL%20CartPole%20SARSA/sweeps/y7dexche' target=\"_blank\">https://wandb.ai/tejaswiniksssn-indian-institute-of-technology-madras/RL%20CartPole%20SARSA/sweeps/y7dexche</a>"
            ]
          },
          "metadata": {}
        },
        {
          "output_type": "display_data",
          "data": {
            "text/plain": [
              "<IPython.core.display.HTML object>"
            ],
            "text/html": [
              " View run at <a href='https://wandb.ai/tejaswiniksssn-indian-institute-of-technology-madras/RL%20CartPole%20SARSA/runs/a0yebqvz' target=\"_blank\">https://wandb.ai/tejaswiniksssn-indian-institute-of-technology-madras/RL%20CartPole%20SARSA/runs/a0yebqvz</a>"
            ]
          },
          "metadata": {}
        },
        {
          "output_type": "display_data",
          "data": {
            "text/plain": [
              "<IPython.core.display.HTML object>"
            ],
            "text/html": []
          },
          "metadata": {}
        },
        {
          "output_type": "display_data",
          "data": {
            "text/plain": [
              "<IPython.core.display.HTML object>"
            ],
            "text/html": [
              "<br>    <style><br>        .wandb-row {<br>            display: flex;<br>            flex-direction: row;<br>            flex-wrap: wrap;<br>            justify-content: flex-start;<br>            width: 100%;<br>        }<br>        .wandb-col {<br>            display: flex;<br>            flex-direction: column;<br>            flex-basis: 100%;<br>            flex: 1;<br>            padding: 10px;<br>        }<br>    </style><br><div class=\"wandb-row\"><div class=\"wandb-col\"><h3>Run history:</h3><br/><table class=\"wandb\"><tr><td>episode</td><td>▁▁▂▂▂▃▃▃▃▄▄▄▄▄▄▄▄▅▅▅▅▅▅▆▆▆▆▆▆▇▇▇▇▇▇█████</td></tr><tr><td>final_mean_reward_alpha_0.01_lambda_0.001</td><td>▁</td></tr><tr><td>final_regret_variance_alpha_0.01_lambda_0.001</td><td>▁</td></tr><tr><td>final_reward_variance_alpha_0.01_lambda_0.001</td><td>▁</td></tr><tr><td>final_total_regret_alpha_0.01_lambda_0.001</td><td>▁</td></tr><tr><td>mean_regret_alpha_0.01_lambda_0.001</td><td>▅▆▇▇▆▆█▆▃█▃▆▇▆▆▆▅▃▅▆▆▄▆█▃▂▅▅▄▃▂▃▆▄▁▅▆▆▂▁</td></tr><tr><td>mean_reward_alpha_0.01_lambda_0.001</td><td>▂▁▂▂▃▂▂▃▃▂▄▂▄▆▄▂▂▆▇▃▃▂▅▆▁▃▄▄██▂▇▅▃▁▃▃▂█▇</td></tr><tr><td>regret_variance_alpha_0.01_lambda_0.001</td><td>▁▂▁▁▁▂█▁▁▁▂▅▁▆▄▄▄▄▄▂▂▇▂▂▁▂▃▅▃▃▃▁▄▄▂▆▃▄▂▂</td></tr><tr><td>reward_variance_alpha_0.01_lambda_0.001</td><td>▁▁▁▁▁▁▁▃▂▂▃▂▂▃▁▂▂▂▄▂▄▃▂▂▁▃▄▃▁█▃▆▃▄▁▁▁▂▃▂</td></tr></table><br/></div><div class=\"wandb-col\"><h3>Run summary:</h3><br/><table class=\"wandb\"><tr><td>episode</td><td>9999</td></tr><tr><td>final_mean_reward_alpha_0.01_lambda_0.001</td><td>48</td></tr><tr><td>final_regret_variance_alpha_0.01_lambda_0.001</td><td>904.8</td></tr><tr><td>final_reward_variance_alpha_0.01_lambda_0.001</td><td>904.8</td></tr><tr><td>final_total_regret_alpha_0.01_lambda_0.001</td><td>452</td></tr><tr><td>mean_regret_alpha_0.01_lambda_0.001</td><td>452</td></tr><tr><td>mean_reward_alpha_0.01_lambda_0.001</td><td>48</td></tr><tr><td>regret_variance_alpha_0.01_lambda_0.001</td><td>904.8</td></tr><tr><td>reward_variance_alpha_0.01_lambda_0.001</td><td>904.8</td></tr></table><br/></div></div>"
            ]
          },
          "metadata": {}
        },
        {
          "output_type": "display_data",
          "data": {
            "text/plain": [
              "<IPython.core.display.HTML object>"
            ],
            "text/html": [
              " View run <strong style=\"color:#cdcd00\">dulcet-sweep-7</strong> at: <a href='https://wandb.ai/tejaswiniksssn-indian-institute-of-technology-madras/RL%20CartPole%20SARSA/runs/a0yebqvz' target=\"_blank\">https://wandb.ai/tejaswiniksssn-indian-institute-of-technology-madras/RL%20CartPole%20SARSA/runs/a0yebqvz</a><br> View project at: <a href='https://wandb.ai/tejaswiniksssn-indian-institute-of-technology-madras/RL%20CartPole%20SARSA' target=\"_blank\">https://wandb.ai/tejaswiniksssn-indian-institute-of-technology-madras/RL%20CartPole%20SARSA</a><br>Synced 5 W&B file(s), 0 media file(s), 0 artifact file(s) and 0 other file(s)"
            ]
          },
          "metadata": {}
        },
        {
          "output_type": "display_data",
          "data": {
            "text/plain": [
              "<IPython.core.display.HTML object>"
            ],
            "text/html": [
              "Find logs at: <code>./wandb/run-20250324_060711-a0yebqvz/logs</code>"
            ]
          },
          "metadata": {}
        },
        {
          "output_type": "stream",
          "name": "stderr",
          "text": [
            "\u001b[34m\u001b[1mwandb\u001b[0m: Agent Starting Run: sl3ts817 with config:\n",
            "\u001b[34m\u001b[1mwandb\u001b[0m: \talpha: 0.01\n",
            "\u001b[34m\u001b[1mwandb\u001b[0m: \tlambda_decay: 0.005\n"
          ]
        },
        {
          "output_type": "display_data",
          "data": {
            "text/plain": [
              "<IPython.core.display.HTML object>"
            ],
            "text/html": [
              "Ignoring project 'cpsarsa' when running a sweep."
            ]
          },
          "metadata": {}
        },
        {
          "output_type": "display_data",
          "data": {
            "text/plain": [
              "<IPython.core.display.HTML object>"
            ],
            "text/html": [
              "Tracking run with wandb version 0.19.8"
            ]
          },
          "metadata": {}
        },
        {
          "output_type": "display_data",
          "data": {
            "text/plain": [
              "<IPython.core.display.HTML object>"
            ],
            "text/html": [
              "Run data is saved locally in <code>/content/wandb/run-20250324_060849-sl3ts817</code>"
            ]
          },
          "metadata": {}
        },
        {
          "output_type": "display_data",
          "data": {
            "text/plain": [
              "<IPython.core.display.HTML object>"
            ],
            "text/html": [
              "Syncing run <strong><a href='https://wandb.ai/tejaswiniksssn-indian-institute-of-technology-madras/RL%20CartPole%20SARSA/runs/sl3ts817' target=\"_blank\">glamorous-sweep-8</a></strong> to <a href='https://wandb.ai/tejaswiniksssn-indian-institute-of-technology-madras/RL%20CartPole%20SARSA' target=\"_blank\">Weights & Biases</a> (<a href='https://wandb.me/developer-guide' target=\"_blank\">docs</a>)<br>Sweep page: <a href='https://wandb.ai/tejaswiniksssn-indian-institute-of-technology-madras/RL%20CartPole%20SARSA/sweeps/y7dexche' target=\"_blank\">https://wandb.ai/tejaswiniksssn-indian-institute-of-technology-madras/RL%20CartPole%20SARSA/sweeps/y7dexche</a>"
            ]
          },
          "metadata": {}
        },
        {
          "output_type": "display_data",
          "data": {
            "text/plain": [
              "<IPython.core.display.HTML object>"
            ],
            "text/html": [
              " View project at <a href='https://wandb.ai/tejaswiniksssn-indian-institute-of-technology-madras/RL%20CartPole%20SARSA' target=\"_blank\">https://wandb.ai/tejaswiniksssn-indian-institute-of-technology-madras/RL%20CartPole%20SARSA</a>"
            ]
          },
          "metadata": {}
        },
        {
          "output_type": "display_data",
          "data": {
            "text/plain": [
              "<IPython.core.display.HTML object>"
            ],
            "text/html": [
              " View sweep at <a href='https://wandb.ai/tejaswiniksssn-indian-institute-of-technology-madras/RL%20CartPole%20SARSA/sweeps/y7dexche' target=\"_blank\">https://wandb.ai/tejaswiniksssn-indian-institute-of-technology-madras/RL%20CartPole%20SARSA/sweeps/y7dexche</a>"
            ]
          },
          "metadata": {}
        },
        {
          "output_type": "display_data",
          "data": {
            "text/plain": [
              "<IPython.core.display.HTML object>"
            ],
            "text/html": [
              " View run at <a href='https://wandb.ai/tejaswiniksssn-indian-institute-of-technology-madras/RL%20CartPole%20SARSA/runs/sl3ts817' target=\"_blank\">https://wandb.ai/tejaswiniksssn-indian-institute-of-technology-madras/RL%20CartPole%20SARSA/runs/sl3ts817</a>"
            ]
          },
          "metadata": {}
        },
        {
          "output_type": "display_data",
          "data": {
            "text/plain": [
              "<IPython.core.display.HTML object>"
            ],
            "text/html": []
          },
          "metadata": {}
        },
        {
          "output_type": "display_data",
          "data": {
            "text/plain": [
              "<IPython.core.display.HTML object>"
            ],
            "text/html": [
              "<br>    <style><br>        .wandb-row {<br>            display: flex;<br>            flex-direction: row;<br>            flex-wrap: wrap;<br>            justify-content: flex-start;<br>            width: 100%;<br>        }<br>        .wandb-col {<br>            display: flex;<br>            flex-direction: column;<br>            flex-basis: 100%;<br>            flex: 1;<br>            padding: 10px;<br>        }<br>    </style><br><div class=\"wandb-row\"><div class=\"wandb-col\"><h3>Run history:</h3><br/><table class=\"wandb\"><tr><td>episode</td><td>▁▁▁▁▂▂▃▃▃▃▄▄▄▄▄▄▄▄▅▅▆▆▆▆▆▆▆▆▆▆▇▇▇▇▇▇████</td></tr><tr><td>final_mean_reward_alpha_0.01_lambda_0.005</td><td>▁</td></tr><tr><td>final_regret_variance_alpha_0.01_lambda_0.005</td><td>▁</td></tr><tr><td>final_reward_variance_alpha_0.01_lambda_0.005</td><td>▁</td></tr><tr><td>final_total_regret_alpha_0.01_lambda_0.005</td><td>▁</td></tr><tr><td>mean_regret_alpha_0.01_lambda_0.005</td><td>▇▇▆▇▇▇▆▆▁▅▇▆▇▃▆▄█▇█▇█▄▅▇▅▆▇▄█▇▃▆▇▅▄▄▅▆▇▃</td></tr><tr><td>mean_reward_alpha_0.01_lambda_0.005</td><td>▂▁▁▂▁▃▃▃▂▂▂▃█▃▁▃▃▂▂▅▃▅▂▂▄▅▇▃▂▂▂▅▂▆▂▂▄▃▂▂</td></tr><tr><td>regret_variance_alpha_0.01_lambda_0.005</td><td>▁▁▁▁▁▂▂▁▁▁▁▁▂▃▁▁▁▂▃▁▂▂▁▁▂▁▁▁▁█▁▁▂▂▁▁▁▃▁▅</td></tr><tr><td>reward_variance_alpha_0.01_lambda_0.005</td><td>▁▁▁▃▁▁▂▂▃▁▁▁▁▁▁▁▁▁▂▃▁▃▁▂▃▁▁▂▇▁▁▂▆▁▁▇▃▁▆█</td></tr></table><br/></div><div class=\"wandb-col\"><h3>Run summary:</h3><br/><table class=\"wandb\"><tr><td>episode</td><td>9999</td></tr><tr><td>final_mean_reward_alpha_0.01_lambda_0.005</td><td>38.4</td></tr><tr><td>final_regret_variance_alpha_0.01_lambda_0.005</td><td>293.04</td></tr><tr><td>final_reward_variance_alpha_0.01_lambda_0.005</td><td>293.04</td></tr><tr><td>final_total_regret_alpha_0.01_lambda_0.005</td><td>461.6</td></tr><tr><td>mean_regret_alpha_0.01_lambda_0.005</td><td>461.6</td></tr><tr><td>mean_reward_alpha_0.01_lambda_0.005</td><td>38.4</td></tr><tr><td>regret_variance_alpha_0.01_lambda_0.005</td><td>293.04</td></tr><tr><td>reward_variance_alpha_0.01_lambda_0.005</td><td>293.04</td></tr></table><br/></div></div>"
            ]
          },
          "metadata": {}
        },
        {
          "output_type": "display_data",
          "data": {
            "text/plain": [
              "<IPython.core.display.HTML object>"
            ],
            "text/html": [
              " View run <strong style=\"color:#cdcd00\">glamorous-sweep-8</strong> at: <a href='https://wandb.ai/tejaswiniksssn-indian-institute-of-technology-madras/RL%20CartPole%20SARSA/runs/sl3ts817' target=\"_blank\">https://wandb.ai/tejaswiniksssn-indian-institute-of-technology-madras/RL%20CartPole%20SARSA/runs/sl3ts817</a><br> View project at: <a href='https://wandb.ai/tejaswiniksssn-indian-institute-of-technology-madras/RL%20CartPole%20SARSA' target=\"_blank\">https://wandb.ai/tejaswiniksssn-indian-institute-of-technology-madras/RL%20CartPole%20SARSA</a><br>Synced 5 W&B file(s), 0 media file(s), 0 artifact file(s) and 0 other file(s)"
            ]
          },
          "metadata": {}
        },
        {
          "output_type": "display_data",
          "data": {
            "text/plain": [
              "<IPython.core.display.HTML object>"
            ],
            "text/html": [
              "Find logs at: <code>./wandb/run-20250324_060849-sl3ts817/logs</code>"
            ]
          },
          "metadata": {}
        },
        {
          "output_type": "stream",
          "name": "stderr",
          "text": [
            "\u001b[34m\u001b[1mwandb\u001b[0m: Agent Starting Run: g0ym3u7g with config:\n",
            "\u001b[34m\u001b[1mwandb\u001b[0m: \talpha: 0.01\n",
            "\u001b[34m\u001b[1mwandb\u001b[0m: \tlambda_decay: 0.0005\n"
          ]
        },
        {
          "output_type": "display_data",
          "data": {
            "text/plain": [
              "<IPython.core.display.HTML object>"
            ],
            "text/html": [
              "Ignoring project 'cpsarsa' when running a sweep."
            ]
          },
          "metadata": {}
        },
        {
          "output_type": "display_data",
          "data": {
            "text/plain": [
              "<IPython.core.display.HTML object>"
            ],
            "text/html": [
              "Tracking run with wandb version 0.19.8"
            ]
          },
          "metadata": {}
        },
        {
          "output_type": "display_data",
          "data": {
            "text/plain": [
              "<IPython.core.display.HTML object>"
            ],
            "text/html": [
              "Run data is saved locally in <code>/content/wandb/run-20250324_061006-g0ym3u7g</code>"
            ]
          },
          "metadata": {}
        },
        {
          "output_type": "display_data",
          "data": {
            "text/plain": [
              "<IPython.core.display.HTML object>"
            ],
            "text/html": [
              "Syncing run <strong><a href='https://wandb.ai/tejaswiniksssn-indian-institute-of-technology-madras/RL%20CartPole%20SARSA/runs/g0ym3u7g' target=\"_blank\">good-sweep-9</a></strong> to <a href='https://wandb.ai/tejaswiniksssn-indian-institute-of-technology-madras/RL%20CartPole%20SARSA' target=\"_blank\">Weights & Biases</a> (<a href='https://wandb.me/developer-guide' target=\"_blank\">docs</a>)<br>Sweep page: <a href='https://wandb.ai/tejaswiniksssn-indian-institute-of-technology-madras/RL%20CartPole%20SARSA/sweeps/y7dexche' target=\"_blank\">https://wandb.ai/tejaswiniksssn-indian-institute-of-technology-madras/RL%20CartPole%20SARSA/sweeps/y7dexche</a>"
            ]
          },
          "metadata": {}
        },
        {
          "output_type": "display_data",
          "data": {
            "text/plain": [
              "<IPython.core.display.HTML object>"
            ],
            "text/html": [
              " View project at <a href='https://wandb.ai/tejaswiniksssn-indian-institute-of-technology-madras/RL%20CartPole%20SARSA' target=\"_blank\">https://wandb.ai/tejaswiniksssn-indian-institute-of-technology-madras/RL%20CartPole%20SARSA</a>"
            ]
          },
          "metadata": {}
        },
        {
          "output_type": "display_data",
          "data": {
            "text/plain": [
              "<IPython.core.display.HTML object>"
            ],
            "text/html": [
              " View sweep at <a href='https://wandb.ai/tejaswiniksssn-indian-institute-of-technology-madras/RL%20CartPole%20SARSA/sweeps/y7dexche' target=\"_blank\">https://wandb.ai/tejaswiniksssn-indian-institute-of-technology-madras/RL%20CartPole%20SARSA/sweeps/y7dexche</a>"
            ]
          },
          "metadata": {}
        },
        {
          "output_type": "display_data",
          "data": {
            "text/plain": [
              "<IPython.core.display.HTML object>"
            ],
            "text/html": [
              " View run at <a href='https://wandb.ai/tejaswiniksssn-indian-institute-of-technology-madras/RL%20CartPole%20SARSA/runs/g0ym3u7g' target=\"_blank\">https://wandb.ai/tejaswiniksssn-indian-institute-of-technology-madras/RL%20CartPole%20SARSA/runs/g0ym3u7g</a>"
            ]
          },
          "metadata": {}
        },
        {
          "output_type": "display_data",
          "data": {
            "text/plain": [
              "<IPython.core.display.HTML object>"
            ],
            "text/html": []
          },
          "metadata": {}
        },
        {
          "output_type": "display_data",
          "data": {
            "text/plain": [
              "<IPython.core.display.HTML object>"
            ],
            "text/html": [
              "<br>    <style><br>        .wandb-row {<br>            display: flex;<br>            flex-direction: row;<br>            flex-wrap: wrap;<br>            justify-content: flex-start;<br>            width: 100%;<br>        }<br>        .wandb-col {<br>            display: flex;<br>            flex-direction: column;<br>            flex-basis: 100%;<br>            flex: 1;<br>            padding: 10px;<br>        }<br>    </style><br><div class=\"wandb-row\"><div class=\"wandb-col\"><h3>Run history:</h3><br/><table class=\"wandb\"><tr><td>episode</td><td>▁▁▁▁▁▂▂▂▂▂▂▃▃▃▃▃▄▄▄▅▅▅▅▅▅▅▅▆▆▆▆▆▆▇▇▇▇███</td></tr><tr><td>final_mean_reward_alpha_0.01_lambda_0.0005</td><td>▁</td></tr><tr><td>final_regret_variance_alpha_0.01_lambda_0.0005</td><td>▁</td></tr><tr><td>final_reward_variance_alpha_0.01_lambda_0.0005</td><td>▁</td></tr><tr><td>final_total_regret_alpha_0.01_lambda_0.0005</td><td>▁</td></tr><tr><td>mean_regret_alpha_0.01_lambda_0.0005</td><td>▇███▇▇█▆▇▇▆▆▇█▆▆▆▆▇▄▅▄▄▆▆▅▅▄▂▃▄▆▆▁▆▆▅▄▅▅</td></tr><tr><td>mean_reward_alpha_0.01_lambda_0.0005</td><td>▁▁▁▂▁▁▁▃▁▂▂▄▂▃▂▄▃▃▃▄▃▄▄▆▆▅▃▅▆▃█▄▄▄▃▅▅▇▄▅</td></tr><tr><td>regret_variance_alpha_0.01_lambda_0.0005</td><td>▁▁▁▁▂▁▁▁▁▂▁▁▄▁▁▂▁▆▃▄▃▃▆▄▂▃▂▂▄▅▂▃█▂▅▄▂▄▃▄</td></tr><tr><td>reward_variance_alpha_0.01_lambda_0.0005</td><td>▁▁▁▁▁▁▁▁▁▁▁▁▁▁▁▁▁▁▁▁▁▁▁▁▁▁▁▁▂▁▁▁▂▁▁▁▂▁█▁</td></tr></table><br/></div><div class=\"wandb-col\"><h3>Run summary:</h3><br/><table class=\"wandb\"><tr><td>episode</td><td>9999</td></tr><tr><td>final_mean_reward_alpha_0.01_lambda_0.0005</td><td>91.2</td></tr><tr><td>final_regret_variance_alpha_0.01_lambda_0.0005</td><td>5610.96</td></tr><tr><td>final_reward_variance_alpha_0.01_lambda_0.0005</td><td>5610.96</td></tr><tr><td>final_total_regret_alpha_0.01_lambda_0.0005</td><td>408.8</td></tr><tr><td>mean_regret_alpha_0.01_lambda_0.0005</td><td>408.8</td></tr><tr><td>mean_reward_alpha_0.01_lambda_0.0005</td><td>91.2</td></tr><tr><td>regret_variance_alpha_0.01_lambda_0.0005</td><td>5610.96</td></tr><tr><td>reward_variance_alpha_0.01_lambda_0.0005</td><td>5610.96</td></tr></table><br/></div></div>"
            ]
          },
          "metadata": {}
        },
        {
          "output_type": "display_data",
          "data": {
            "text/plain": [
              "<IPython.core.display.HTML object>"
            ],
            "text/html": [
              " View run <strong style=\"color:#cdcd00\">good-sweep-9</strong> at: <a href='https://wandb.ai/tejaswiniksssn-indian-institute-of-technology-madras/RL%20CartPole%20SARSA/runs/g0ym3u7g' target=\"_blank\">https://wandb.ai/tejaswiniksssn-indian-institute-of-technology-madras/RL%20CartPole%20SARSA/runs/g0ym3u7g</a><br> View project at: <a href='https://wandb.ai/tejaswiniksssn-indian-institute-of-technology-madras/RL%20CartPole%20SARSA' target=\"_blank\">https://wandb.ai/tejaswiniksssn-indian-institute-of-technology-madras/RL%20CartPole%20SARSA</a><br>Synced 5 W&B file(s), 0 media file(s), 0 artifact file(s) and 0 other file(s)"
            ]
          },
          "metadata": {}
        },
        {
          "output_type": "display_data",
          "data": {
            "text/plain": [
              "<IPython.core.display.HTML object>"
            ],
            "text/html": [
              "Find logs at: <code>./wandb/run-20250324_061006-g0ym3u7g/logs</code>"
            ]
          },
          "metadata": {}
        },
        {
          "output_type": "stream",
          "name": "stderr",
          "text": [
            "\u001b[34m\u001b[1mwandb\u001b[0m: Sweep Agent: Waiting for job.\n",
            "\u001b[34m\u001b[1mwandb\u001b[0m: Sweep Agent: Exiting.\n"
          ]
        }
      ],
      "source": [
        "import numpy as np\n",
        "import gymnasium as gym\n",
        "import random\n",
        "import wandb\n",
        "\n",
        "# Constants\n",
        "GAMMA = 0.99\n",
        "EPSILON_START = 1\n",
        "EPSILON_MIN = 0.01\n",
        "MAX_EPISODES = 10000\n",
        "MAX_STEPS = 500\n",
        "NUM_RUNS = 5  # Running the experiment 5 times\n",
        "MAX_REWARD = 500  # Max possible reward in CartPole-v1\n",
        "\n",
        "# State bounds for normalization\n",
        "state_bounds = [\n",
        "    [-4.8, 4.8],  # Cart position\n",
        "    [-3.0, 3.0],  # Cart velocity\n",
        "    [-0.418, 0.418],  # Pole angle\n",
        "    [-3.0, 3.0]   # Pole angular velocity\n",
        "]\n",
        "NUM_BINS = [20, 20, 20, 20]  # Number of bins for each state variable\n",
        "\n",
        "def discretize_state(state):\n",
        "    \"\"\"Convert continuous state into discrete bins.\"\"\"\n",
        "    bin_indices = []\n",
        "    for i in range(len(state)):\n",
        "        bin_width = (state_bounds[i][1] - state_bounds[i][0]) / NUM_BINS[i]\n",
        "        bin_index = int((state[i] - state_bounds[i][0]) / bin_width)\n",
        "        bin_index = min(NUM_BINS[i] - 1, max(0, bin_index))  # Keep within bounds\n",
        "        bin_indices.append(bin_index)\n",
        "    return tuple(bin_indices)\n",
        "\n",
        "def choose_action(q_table, state, epsilon):\n",
        "    \"\"\"Epsilon-greedy action selection.\"\"\"\n",
        "    if random.uniform(0, 1) < epsilon:\n",
        "        return random.choice([0, 1])  # Random action\n",
        "    return np.argmax(q_table.get(state, [0, 0]))  # Exploit best known action\n",
        "\n",
        "def sarsa_q_table(env, alpha, lambda_decay, run_num):\n",
        "    \"\"\"SARSA algorithm with discretized states.\"\"\"\n",
        "    q_table = {}  # Q-table stored as a dictionary\n",
        "    rewards_per_episode = []\n",
        "    regret_per_episode = []\n",
        "\n",
        "    for episode in range(MAX_EPISODES):\n",
        "        epsilon = max(EPSILON_MIN, EPSILON_START * np.exp(-lambda_decay * episode))\n",
        "        state = discretize_state(env.reset()[0])\n",
        "        action = choose_action(q_table, state, epsilon)\n",
        "        total_reward = 0\n",
        "\n",
        "        for _ in range(MAX_STEPS):\n",
        "            next_state_raw, reward, terminated, truncated, _ = env.step(action)\n",
        "            next_state = discretize_state(next_state_raw)\n",
        "            next_action = choose_action(q_table, next_state, epsilon)\n",
        "\n",
        "            td_target = reward + (GAMMA * q_table.get(next_state, [0, 0])[next_action] if not (terminated or truncated) else 0)\n",
        "            q_table.setdefault(state, [0, 0])[action] += alpha * (td_target - q_table[state][action])\n",
        "\n",
        "            state, action = next_state, next_action\n",
        "            total_reward += reward\n",
        "            if terminated or truncated:\n",
        "                break\n",
        "\n",
        "        rewards_per_episode.append(total_reward)\n",
        "        regret_per_episode.append(MAX_REWARD - total_reward)  # Compute regret\n",
        "\n",
        "    return rewards_per_episode, regret_per_episode\n",
        "\n",
        "# --------------------- #\n",
        "#       W&B SWEEP      #\n",
        "# --------------------- #\n",
        "\n",
        "# Define the WandB sweep configuration\n",
        "sweep_config = {\n",
        "    \"method\": \"grid\",  # Options: \"grid\", \"random\", \"bayes\"\n",
        "    \"metric\": {\"name\": \"total_regret\", \"goal\": \"minimize\"},\n",
        "    \"parameters\": {\n",
        "        \"alpha\": {\"values\": [0.1, 0.05, 0.01]},  # Learning rates\n",
        "        \"lambda_decay\": {\"values\": [0.001, 0.005, 0.0005]}  # Decay rates\n",
        "    }\n",
        "}\n",
        "\n",
        "# Initialize sweep\n",
        "sweep_id = wandb.sweep(sweep_config, project=\"RL CartPole SARSA\")\n",
        "\n",
        "def train_sweep():\n",
        "    \"\"\"Train SARSA for a single (alpha, lambda_decay) configuration.\"\"\"\n",
        "    wandb.init(project=\"cpsarsa\")  # Initialize WandB\n",
        "    config = wandb.config  # Get current hyperparameters\n",
        "\n",
        "    alpha = config.alpha\n",
        "    lambda_decay = config.lambda_decay\n",
        "\n",
        "    all_rewards = np.zeros((NUM_RUNS, MAX_EPISODES))\n",
        "    all_regrets = np.zeros((NUM_RUNS, MAX_EPISODES))\n",
        "\n",
        "    for run in range(NUM_RUNS):\n",
        "        env = gym.make(\"CartPole-v1\")\n",
        "        rewards, regrets = sarsa_q_table(env, alpha, lambda_decay, run)\n",
        "        all_rewards[run, :] = rewards\n",
        "        all_regrets[run, :] = regrets\n",
        "\n",
        "    # Compute mean and variance for rewards & regret per episode\n",
        "    mean_rewards = np.mean(all_rewards, axis=0)\n",
        "    var_rewards = np.var(all_rewards, axis=0)\n",
        "    mean_regret = np.mean(all_regrets, axis=0)\n",
        "    var_regret = np.var(all_regrets, axis=0)\n",
        "\n",
        "    # Log episode-wise metrics\n",
        "    for episode in range(MAX_EPISODES):\n",
        "        wandb.log({\n",
        "            \"episode\": episode,\n",
        "            f\"mean_reward_alpha_{alpha}_lambda_{lambda_decay}\": mean_rewards[episode],\n",
        "            f\"reward_variance_alpha_{alpha}_lambda_{lambda_decay}\": var_rewards[episode],\n",
        "            f\"mean_regret_alpha_{alpha}_lambda_{lambda_decay}\": mean_regret[episode],\n",
        "            f\"regret_variance_alpha_{alpha}_lambda_{lambda_decay}\": var_regret[episode]\n",
        "        })\n",
        "\n",
        "    # Log final performance\n",
        "    wandb.log({\n",
        "        f\"final_mean_reward_alpha_{alpha}_lambda_{lambda_decay}\": mean_rewards[-1],\n",
        "        f\"final_reward_variance_alpha_{alpha}_lambda_{lambda_decay}\": var_rewards[-1],\n",
        "        f\"final_total_regret_alpha_{alpha}_lambda_{lambda_decay}\": mean_regret[-1],\n",
        "        f\"final_regret_variance_alpha_{alpha}_lambda_{lambda_decay}\": var_regret[-1]\n",
        "    })\n",
        "\n",
        "# Run the sweep agent for all 9 configurations\n",
        "wandb.agent(sweep_id, train_sweep)\n"
      ]
    }
  ]
}